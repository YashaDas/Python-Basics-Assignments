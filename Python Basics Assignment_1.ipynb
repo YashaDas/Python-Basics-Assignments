{
 "cells": [
  {
   "cell_type": "markdown",
   "id": "323054af",
   "metadata": {},
   "source": [
    "# Python Basics Assignment_1"
   ]
  },
  {
   "cell_type": "markdown",
   "id": "272fa88a",
   "metadata": {},
   "source": [
    "### 1. In the below elements which of them are values or an expression? eg:- values can be integer or string and expressions will be mathematical operators.\n",
    "\n",
    "(* , 'hello', -87.8 , - , /, +\t, 6) "
   ]
  },
  {
   "cell_type": "markdown",
   "id": "c229d680",
   "metadata": {},
   "source": [
    "##### ANSWER: "
   ]
  },
  {
   "cell_type": "markdown",
   "id": "e5bec99a",
   "metadata": {},
   "source": [
    "Values: 'hello', -87.8, 6\n",
    "Expressions: *, -, /, +"
   ]
  },
  {
   "cell_type": "markdown",
   "id": "9720d38c",
   "metadata": {},
   "source": [
    "### 2. What is the difference between string and variable?"
   ]
  },
  {
   "cell_type": "markdown",
   "id": "b8076cdd",
   "metadata": {},
   "source": [
    "###### ANSWER:"
   ]
  },
  {
   "cell_type": "markdown",
   "id": "e4a346cf",
   "metadata": {},
   "source": [
    "The following is the difference between string and variable:\n",
    "\n",
    "- String : It is a type of data that is enclosed within single or double quotation marks.\n",
    "    \n",
    "- Variable: It represents a name in which data is stored.\n",
    "\n",
    "For example:\n",
    "    \n",
    "    a = \"This is an example\"\n",
    "    \n",
    "    Here,\n",
    "     a : Is a variable \n",
    "    \"This is an example\" : Is a string"
   ]
  },
  {
   "cell_type": "markdown",
   "id": "eb4eb41e",
   "metadata": {},
   "source": [
    "### 3. Describe three different data types."
   ]
  },
  {
   "cell_type": "markdown",
   "id": "67f2f6f4",
   "metadata": {},
   "source": [
    "##### ANSWER: "
   ]
  },
  {
   "cell_type": "markdown",
   "id": "c3eb887e",
   "metadata": {},
   "source": [
    "The following are three different data types:\n",
    "\n",
    "- Integers : Integers is represented by int(). It contains positive or negative whole numbers (without fraction or decimal). In Python there is no limit to how long an integer value can be.\n",
    "\n",
    "- Floating-point number : Floating-point number is represented by float(). It contains real numbers with floating point representation. Such as fractions, decimals, etc.\n",
    "\n",
    "- String : String is represented by str(). A string contains one or more characters inside a single quotes or double quotes."
   ]
  },
  {
   "cell_type": "markdown",
   "id": "ca3a20ef",
   "metadata": {},
   "source": [
    "### 4. What is an expression made up of? What do all expressions do?"
   ]
  },
  {
   "cell_type": "markdown",
   "id": "f7677169",
   "metadata": {},
   "source": [
    "##### ANSWER: "
   ]
  },
  {
   "cell_type": "markdown",
   "id": "a04430f3",
   "metadata": {},
   "source": [
    "An expression is made up of values, variables, operators and call to function.\n",
    "\n",
    "The function of all expression is to evaluate to a single value."
   ]
  },
  {
   "cell_type": "markdown",
   "id": "b7fc43b8",
   "metadata": {},
   "source": [
    "### 5. This assignment statements, like spam = 10. What is the difference between an expression and a statement?"
   ]
  },
  {
   "cell_type": "markdown",
   "id": "23022458",
   "metadata": {},
   "source": [
    "##### ANSWER: "
   ]
  },
  {
   "cell_type": "markdown",
   "id": "922d7786",
   "metadata": {},
   "source": [
    "The difference between an expression and a statement is that an expression evaluates to a single value whereas a statement does not."
   ]
  },
  {
   "cell_type": "markdown",
   "id": "d55d1c9f",
   "metadata": {},
   "source": [
    "### 6. After running the following code, what does the variable bacon contain?\n",
    "\n",
    "bacon = 22\n",
    "\n",
    "bacon + 1"
   ]
  },
  {
   "cell_type": "markdown",
   "id": "058ae3ef",
   "metadata": {},
   "source": [
    "##### ANSWER: "
   ]
  },
  {
   "cell_type": "code",
   "execution_count": 9,
   "id": "7425d694",
   "metadata": {},
   "outputs": [
    {
     "name": "stdout",
     "output_type": "stream",
     "text": [
      "22\n"
     ]
    }
   ],
   "source": [
    "bacon = 22\n",
    "bacon + 1\n",
    "print(bacon) \n",
    "# After running the following code,the variable bacon will continue to contain 22 as we can see in the output since the \n",
    "# expression 'bacon + 1' cannot reassign the value in bacon, it will need an assignment statement such as, \n",
    "# bacon = bacon + 1 to change the output"
   ]
  },
  {
   "cell_type": "markdown",
   "id": "caf75138",
   "metadata": {},
   "source": [
    "### 7. What should the values of the following two terms be?\n",
    "\n",
    "'spam' + 'spamspam'\n",
    "\n",
    "'spam' * 3"
   ]
  },
  {
   "cell_type": "markdown",
   "id": "ee3c42a0",
   "metadata": {},
   "source": [
    "##### ANSWER: "
   ]
  },
  {
   "cell_type": "code",
   "execution_count": 10,
   "id": "f9ea5e97",
   "metadata": {},
   "outputs": [
    {
     "data": {
      "text/plain": [
       "'spamspamspam'"
      ]
     },
     "execution_count": 10,
     "metadata": {},
     "output_type": "execute_result"
    }
   ],
   "source": [
    "'spam' + 'spamspam'"
   ]
  },
  {
   "cell_type": "code",
   "execution_count": 11,
   "id": "1c8764ae",
   "metadata": {},
   "outputs": [
    {
     "data": {
      "text/plain": [
       "'spamspamspam'"
      ]
     },
     "execution_count": 11,
     "metadata": {},
     "output_type": "execute_result"
    }
   ],
   "source": [
    "'spam' * 3"
   ]
  },
  {
   "cell_type": "markdown",
   "id": "87aa3510",
   "metadata": {},
   "source": [
    "### 8. Why is eggs a valid variable name while 100 is invalid?"
   ]
  },
  {
   "cell_type": "markdown",
   "id": "fcbe19b3",
   "metadata": {},
   "source": [
    "##### ANSWER: "
   ]
  },
  {
   "cell_type": "markdown",
   "id": "8f8e27d2",
   "metadata": {},
   "source": [
    "According to the rules of naming variables in python, a variable name must start with a letter or an underscore character and cannot start with a number. Hence, eggs is a valid variable name but 100 is an invalid variable name."
   ]
  },
  {
   "cell_type": "markdown",
   "id": "ee957186",
   "metadata": {},
   "source": [
    "### 9. What three functions can be used to get the integer, floating-point number, or string version of a value?"
   ]
  },
  {
   "cell_type": "markdown",
   "id": "3200b856",
   "metadata": {},
   "source": [
    "##### ANSWER: "
   ]
  },
  {
   "cell_type": "markdown",
   "id": "b770e63e",
   "metadata": {},
   "source": [
    "The following are the three functions that can be used to get the integer, floating-point number, or string version of a value:\n",
    "\n",
    "- Integer: int()\n",
    "\n",
    "- Floating-point number: float()\n",
    "\n",
    "- String: str()"
   ]
  },
  {
   "cell_type": "markdown",
   "id": "a88accfa",
   "metadata": {},
   "source": [
    "### 10. Why does this expression cause an error? How can you fix it?\n",
    "\n",
    "'I have eaten ' + 99 + ' burritos.'"
   ]
  },
  {
   "cell_type": "code",
   "execution_count": 12,
   "id": "75305649",
   "metadata": {},
   "outputs": [
    {
     "ename": "TypeError",
     "evalue": "can only concatenate str (not \"int\") to str",
     "output_type": "error",
     "traceback": [
      "\u001b[1;31m---------------------------------------------------------------------------\u001b[0m",
      "\u001b[1;31mTypeError\u001b[0m                                 Traceback (most recent call last)",
      "\u001b[1;32mC:\\Users\\COMPUT~1\\AppData\\Local\\Temp/ipykernel_24824/3617689438.py\u001b[0m in \u001b[0;36m<module>\u001b[1;34m\u001b[0m\n\u001b[1;32m----> 1\u001b[1;33m \u001b[1;34m'I have eaten '\u001b[0m \u001b[1;33m+\u001b[0m \u001b[1;36m99\u001b[0m \u001b[1;33m+\u001b[0m \u001b[1;34m' burritos.'\u001b[0m\u001b[1;33m\u001b[0m\u001b[1;33m\u001b[0m\u001b[0m\n\u001b[0m\u001b[0;32m      2\u001b[0m \u001b[1;33m\u001b[0m\u001b[0m\n\u001b[0;32m      3\u001b[0m \u001b[1;31m# The above mentioned expression causes an error because 99 is an integer,and only strings can be concatenated to other strings\u001b[0m\u001b[1;33m\u001b[0m\u001b[1;33m\u001b[0m\u001b[0m\n\u001b[0;32m      4\u001b[0m \u001b[1;31m# with the + operator.\u001b[0m\u001b[1;33m\u001b[0m\u001b[1;33m\u001b[0m\u001b[0m\n",
      "\u001b[1;31mTypeError\u001b[0m: can only concatenate str (not \"int\") to str"
     ]
    }
   ],
   "source": [
    "'I have eaten ' + 99 + ' burritos.'\n",
    "\n",
    "# The above mentioned expression causes an error because 99 is an integer,and only strings can be concatenated to other strings \n",
    "# with the + operator."
   ]
  },
  {
   "cell_type": "code",
   "execution_count": 13,
   "id": "b4271445",
   "metadata": {},
   "outputs": [
    {
     "data": {
      "text/plain": [
       "'I have eaten 99 burritos.'"
      ]
     },
     "execution_count": 13,
     "metadata": {},
     "output_type": "execute_result"
    }
   ],
   "source": [
    "# The error in the above mentioned expression can be fixed by converting 99 which is an integer to a string by using \n",
    "# the string function as str(99):\n",
    "\n",
    "'I have eaten ' + str(99) + ' burritos.'"
   ]
  },
  {
   "cell_type": "code",
   "execution_count": 14,
   "id": "223d2da6",
   "metadata": {},
   "outputs": [
    {
     "data": {
      "text/plain": [
       "'I have eaten 99 burritos.'"
      ]
     },
     "execution_count": 14,
     "metadata": {},
     "output_type": "execute_result"
    }
   ],
   "source": [
    "# Or we can also fix this error by adding quotation marks around 99 which is an integer to convert it into a string type:\n",
    "\n",
    "'I have eaten ' + '99' + ' burritos.'"
   ]
  }
 ],
 "metadata": {
  "kernelspec": {
   "display_name": "Python 3 (ipykernel)",
   "language": "python",
   "name": "python3"
  },
  "language_info": {
   "codemirror_mode": {
    "name": "ipython",
    "version": 3
   },
   "file_extension": ".py",
   "mimetype": "text/x-python",
   "name": "python",
   "nbconvert_exporter": "python",
   "pygments_lexer": "ipython3",
   "version": "3.9.7"
  }
 },
 "nbformat": 4,
 "nbformat_minor": 5
}
