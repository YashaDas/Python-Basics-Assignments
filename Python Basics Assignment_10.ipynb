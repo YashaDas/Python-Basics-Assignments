{
 "cells": [
  {
   "cell_type": "markdown",
   "id": "ba1725d4",
   "metadata": {},
   "source": [
    "# Python Basics Assignment_10"
   ]
  },
  {
   "cell_type": "markdown",
   "id": "b40d6e13",
   "metadata": {},
   "source": [
    "### 1. How do you distinguish between shutil.copy() and shutil.copytree()?"
   ]
  },
  {
   "cell_type": "markdown",
   "id": "782df22e",
   "metadata": {},
   "source": [
    "##### ANSWER: "
   ]
  },
  {
   "cell_type": "markdown",
   "id": "2c226b63",
   "metadata": {},
   "source": [
    "The shutil.copy() function will copy a single file, whereas the shutil.copytree() will copy an entire folder, along with all its contents."
   ]
  },
  {
   "cell_type": "markdown",
   "id": "7245b5e8",
   "metadata": {},
   "source": [
    "### 2. What function is used to rename files??"
   ]
  },
  {
   "cell_type": "markdown",
   "id": "0671a7f4",
   "metadata": {},
   "source": [
    "##### ANSWER:  "
   ]
  },
  {
   "cell_type": "markdown",
   "id": "1186b628",
   "metadata": {},
   "source": [
    "The shutil.move() function is used for renaming files as well as moving them."
   ]
  },
  {
   "cell_type": "markdown",
   "id": "c3384976",
   "metadata": {},
   "source": [
    "### 3. What is the difference between the delete functions in the send2trash and shutil modules?"
   ]
  },
  {
   "cell_type": "markdown",
   "id": "6c02af6f",
   "metadata": {},
   "source": [
    "##### ANSWER:  "
   ]
  },
  {
   "cell_type": "markdown",
   "id": "7e1e100d",
   "metadata": {},
   "source": [
    "The send2trash functions will move a file or folder to the recycle bin, whereas the shutil modules will permanently delete files and folders."
   ]
  },
  {
   "cell_type": "markdown",
   "id": "329ef9dc",
   "metadata": {},
   "source": [
    "### 4. ZipFile objects have a close() method just like File objects’ close() method. What ZipFile method is equivalent to File objects’ open() method?"
   ]
  },
  {
   "cell_type": "markdown",
   "id": "c7a508bc",
   "metadata": {},
   "source": [
    "##### ANSWER:  "
   ]
  },
  {
   "cell_type": "markdown",
   "id": "3110db31",
   "metadata": {},
   "source": [
    "The zipfile.ZipFile() method is equivalent to the open() method; the first argument is the filename, and the second argument is the mode to open the ZIP file in (read, write, or append)."
   ]
  },
  {
   "cell_type": "markdown",
   "id": "4c5dceb8",
   "metadata": {},
   "source": [
    "### 5. Create a programme that searches a folder tree for files with a certain file extension (such as .pdf or .jpg). Copy these files from whatever location they are in to a new folder."
   ]
  },
  {
   "cell_type": "markdown",
   "id": "58ae9e4b",
   "metadata": {},
   "source": [
    "##### ANSWER:  "
   ]
  },
  {
   "cell_type": "markdown",
   "id": "159f0a8f",
   "metadata": {},
   "source": [
    "! python3\n",
    "\n",
    "moveFileType looks in My Pictures and copies .jpg files to my Python folder\n",
    "\n",
    "import os, shutil\n",
    "\n",
    "def moveFileType(folder):\n",
    "\n",
    "for folderName, subfolders, filenames in os.walk(folder):\n",
    "\n",
    "    for subfolder in subfolders:\n",
    "\n",
    "        for filename in filenames:\n",
    "\n",
    "            if filename.endswith('.jpg'):\n",
    "\n",
    "                shutil.copy(folder + filename, '<destination>')\n",
    "\n",
    "moveFileType('< source >')"
   ]
  }
 ],
 "metadata": {
  "kernelspec": {
   "display_name": "Python 3 (ipykernel)",
   "language": "python",
   "name": "python3"
  },
  "language_info": {
   "codemirror_mode": {
    "name": "ipython",
    "version": 3
   },
   "file_extension": ".py",
   "mimetype": "text/x-python",
   "name": "python",
   "nbconvert_exporter": "python",
   "pygments_lexer": "ipython3",
   "version": "3.9.7"
  }
 },
 "nbformat": 4,
 "nbformat_minor": 5
}
