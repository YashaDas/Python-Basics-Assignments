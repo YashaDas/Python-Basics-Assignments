{
 "cells": [
  {
   "cell_type": "markdown",
   "id": "2d001460",
   "metadata": {},
   "source": [
    "# Python Basics Assignment_11"
   ]
  },
  {
   "cell_type": "markdown",
   "id": "ab4a5f0b",
   "metadata": {},
   "source": [
    "### 1. Create an assert statement that throws an AssertionError if the variable spam is a negative integer."
   ]
  },
  {
   "cell_type": "markdown",
   "id": "9752917d",
   "metadata": {},
   "source": [
    "##### ANSWER: "
   ]
  },
  {
   "cell_type": "markdown",
   "id": "22fb26a6",
   "metadata": {},
   "source": [
    "assert spam >= -7, 'The variable spam is a negative integer.'\n",
    "\n",
    "AssertionError: The variable spam is a negative integer."
   ]
  },
  {
   "cell_type": "markdown",
   "id": "f9063c65",
   "metadata": {},
   "source": [
    "### 2. Write an assert statement that triggers an AssertionError if the variables eggs and bacon contain strings that are the same as each other, even if their cases are different (that is, 'hello' and 'hello' are considered the same, and 'goodbye' and 'GOODbye' are also considered the same)."
   ]
  },
  {
   "cell_type": "markdown",
   "id": "0b81c2b0",
   "metadata": {},
   "source": [
    "##### ANSWER: "
   ]
  },
  {
   "cell_type": "markdown",
   "id": "748371d7",
   "metadata": {},
   "source": [
    "assert eggs.lower() != bacon.lower(), 'The eggs and bacon variables are the same!'\n",
    "\n",
    "assert eggs.upper() != bacon.upper(), 'The eggs and bacon variables are the same!'"
   ]
  },
  {
   "cell_type": "markdown",
   "id": "a8e89e86",
   "metadata": {},
   "source": [
    "### 3. Create an assert statement that throws an AssertionError every time."
   ]
  },
  {
   "cell_type": "markdown",
   "id": "d13f8123",
   "metadata": {},
   "source": [
    "##### ANSWER:  "
   ]
  },
  {
   "cell_type": "markdown",
   "id": "a06fad88",
   "metadata": {},
   "source": [
    "assert False, 'This assertion throws an AssertionError every time.'"
   ]
  },
  {
   "cell_type": "markdown",
   "id": "26a94e20",
   "metadata": {},
   "source": [
    "### 4. What are the two lines that must be present in your software in order to call logging.debug()?"
   ]
  },
  {
   "cell_type": "markdown",
   "id": "162e498a",
   "metadata": {},
   "source": [
    "##### ANSWER: "
   ]
  },
  {
   "cell_type": "markdown",
   "id": "ad83093c",
   "metadata": {},
   "source": [
    "To be able to call logging.debug(), you must have these two lines at the start of your program:\n",
    "\n",
    "import logging\n",
    "\n",
    "logging.basicConfig(level=logging.DEBUG, format=' %(asctime)s -%(levelname)s - %(message)s')"
   ]
  },
  {
   "cell_type": "markdown",
   "id": "2291a05a",
   "metadata": {},
   "source": [
    "### 5. What are the two lines that your program must have in order to have logging.debug() send a logging message to a file named programLog.txt?"
   ]
  },
  {
   "cell_type": "markdown",
   "id": "24e09be9",
   "metadata": {},
   "source": [
    "##### ANSWER:  "
   ]
  },
  {
   "cell_type": "markdown",
   "id": "d466dc0d",
   "metadata": {},
   "source": [
    "To be able to send logging messages to a file named programLog.txt with logging.debug(), you must have these two lines at the start of your program:\n",
    "\n",
    "import logging\n",
    "\n",
    "logging.basicConfig(filename='programLog.txt', level=logging.DEBUG, format=' %(asctime)s - %(levelname)s - %(message)s')"
   ]
  },
  {
   "cell_type": "markdown",
   "id": "2bfab604",
   "metadata": {},
   "source": [
    "### 6. What are the five levels of logging?"
   ]
  },
  {
   "cell_type": "markdown",
   "id": "7cb178b0",
   "metadata": {},
   "source": [
    "##### ANSWER:  "
   ]
  },
  {
   "cell_type": "markdown",
   "id": "8c75d8c7",
   "metadata": {},
   "source": [
    "- DEBUG\n",
    "\n",
    "  Logging Function : logging.debug()\n",
    "\n",
    "  The lowest level. Used for small details. Usually you care about these messages only when diagnosing problems.\n",
    "  \n",
    "\n",
    "- INFO\n",
    "\n",
    "  Logging Function : logging.info()\n",
    "\n",
    "  Used to record information on general events in your program or confirm that things are working at their point in the program.\n",
    "  \n",
    "\n",
    "- WARNING\n",
    "\n",
    "  Logging Function : logging.warning()\n",
    "\n",
    "  Used to indicate a potential problem that doesn’t prevent the program from working but might do so in the future.\n",
    "  \n",
    "\n",
    "- ERROR\n",
    "\n",
    "  Logging Function : logging.error()\n",
    "\n",
    "  Used to record an error that caused the program to fail to do something.\n",
    "  \n",
    "\n",
    "- CRITICAL\n",
    "\n",
    "  Logging Function : logging.critical()\n",
    "\n",
    "  The highest level. Used to indicate a fatal error that has caused or is about to cause the program to stop running entirely."
   ]
  },
  {
   "cell_type": "markdown",
   "id": "e040020a",
   "metadata": {},
   "source": [
    "### 7. What line of code would you add to your software to disable all logging messages?"
   ]
  },
  {
   "cell_type": "markdown",
   "id": "b50c660c",
   "metadata": {},
   "source": [
    "##### ANSWER:  "
   ]
  },
  {
   "cell_type": "markdown",
   "id": "8997dcf3",
   "metadata": {},
   "source": [
    "The following is the line of code that you can add to your software to disable all logging messages:\n",
    "\n",
    "logging.disable(logging.CRITICAL)"
   ]
  },
  {
   "cell_type": "markdown",
   "id": "0656db05",
   "metadata": {},
   "source": [
    "### 8. Why is using logging messages better than using print() to display the same message?"
   ]
  },
  {
   "cell_type": "markdown",
   "id": "528d39ec",
   "metadata": {},
   "source": [
    "##### ANSWER:  "
   ]
  },
  {
   "cell_type": "markdown",
   "id": "f96bac16",
   "metadata": {},
   "source": [
    "The following are some of the reasons for using logging messages rather than using print() to display the same message are:\n",
    "\n",
    "\n",
    "- You can disable logging messages without removing the logging function calls.\n",
    "\n",
    "\n",
    "- You can selectively disable lower-level logging messages.\n",
    "\n",
    "\n",
    "- Logging messages provides a timestamp.\n",
    "\n",
    "\n",
    "- The nice thing about log messages is that you’re free to fill your program with as many as you like, and you can always disable them later by adding a single logging.disable(logging.CRITICAL) call.\n",
    "\n",
    "\n",
    "- Unlike print(), the logging module makes it easy to switch between showing and hiding log messages.\n",
    "\n"
   ]
  },
  {
   "cell_type": "markdown",
   "id": "297d37c4",
   "metadata": {},
   "source": [
    "### 9. What are the differences between the Step Over, Step In, and Step Out buttons in the debugger?"
   ]
  },
  {
   "cell_type": "markdown",
   "id": "9f37fa8a",
   "metadata": {},
   "source": [
    "##### ANSWER:  "
   ]
  },
  {
   "cell_type": "markdown",
   "id": "1791bd8b",
   "metadata": {},
   "source": [
    "The following is the difference between the Step In, Step Over and Step Out button in the debugger :\n",
    "\n",
    "\n",
    "- Step In\n",
    "\n",
    "  The Step button will move the debugger into a function call.\n",
    "  \n",
    "\n",
    "- Step Over\n",
    "\n",
    "  The Over button will quickly execute the function call without stepping into it.\n",
    "  \n",
    "\n",
    "- Step Out\n",
    "\n",
    "  The Out button will quickly execute the rest of the code until it steps out of the function it currently is in."
   ]
  },
  {
   "cell_type": "markdown",
   "id": "d98bf038",
   "metadata": {},
   "source": [
    "### 10. After you click Continue, when will the debugger stop ?"
   ]
  },
  {
   "cell_type": "markdown",
   "id": "f1d8e48a",
   "metadata": {},
   "source": [
    "##### ANSWER:  "
   ]
  },
  {
   "cell_type": "markdown",
   "id": "d3ab84fe",
   "metadata": {},
   "source": [
    "After you click Continue, the debugger will stop when it has reached the end of the program or a line with a breakpoint."
   ]
  },
  {
   "cell_type": "markdown",
   "id": "5a2a74db",
   "metadata": {},
   "source": [
    "### 11. What is the concept of a breakpoint?"
   ]
  },
  {
   "cell_type": "markdown",
   "id": "cb8a7636",
   "metadata": {},
   "source": [
    "##### ANSWER: "
   ]
  },
  {
   "cell_type": "markdown",
   "id": "3ee2ec8d",
   "metadata": {},
   "source": [
    "A breakpoint is a setting on a line of code that causes the debugger to pause when the program execution reaches the line."
   ]
  }
 ],
 "metadata": {
  "kernelspec": {
   "display_name": "Python 3 (ipykernel)",
   "language": "python",
   "name": "python3"
  },
  "language_info": {
   "codemirror_mode": {
    "name": "ipython",
    "version": 3
   },
   "file_extension": ".py",
   "mimetype": "text/x-python",
   "name": "python",
   "nbconvert_exporter": "python",
   "pygments_lexer": "ipython3",
   "version": "3.9.7"
  }
 },
 "nbformat": 4,
 "nbformat_minor": 5
}
