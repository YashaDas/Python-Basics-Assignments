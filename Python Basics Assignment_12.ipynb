{
 "cells": [
  {
   "cell_type": "markdown",
   "id": "64dc5f82",
   "metadata": {},
   "source": [
    "# Python Basics Assignment_12"
   ]
  },
  {
   "cell_type": "markdown",
   "id": "68188689",
   "metadata": {},
   "source": [
    "### 1. In what modes should the PdfFileReader() and PdfFileWriter() File objects will be opened?"
   ]
  },
  {
   "cell_type": "markdown",
   "id": "358888d3",
   "metadata": {},
   "source": [
    "##### ANSWER:"
   ]
  },
  {
   "cell_type": "markdown",
   "id": "f1a101d9",
   "metadata": {},
   "source": [
    "The following are the modes in which the PdfFileReader() and PdfFileWriter() File objects should be opended :\n",
    "\n",
    "- Read-binary ('rb') for PdfFileReader()\n",
    "\n",
    "\n",
    "- Write-binary ('wb') for PdfFileWriter()"
   ]
  },
  {
   "cell_type": "markdown",
   "id": "07b626f7",
   "metadata": {},
   "source": [
    "### 2. From a PdfFileReader object, how do you get a Page object for page 5?"
   ]
  },
  {
   "cell_type": "markdown",
   "id": "baf5d115",
   "metadata": {},
   "source": [
    "##### ANSWER: "
   ]
  },
  {
   "cell_type": "markdown",
   "id": "494d246a",
   "metadata": {},
   "source": [
    "To get a Page object for page 5 from a PdfFileReader object, this can be done by calling getPage(4) which will return a Page object for the concerning book, since page 0 is the first page."
   ]
  },
  {
   "cell_type": "markdown",
   "id": "88b65f62",
   "metadata": {},
   "source": [
    "### 3. What PdfFileReader variable stores the number of pages in the PDF document?"
   ]
  },
  {
   "cell_type": "markdown",
   "id": "7a742620",
   "metadata": {},
   "source": [
    "##### ANSWER:  "
   ]
  },
  {
   "cell_type": "markdown",
   "id": "7368e0cd",
   "metadata": {},
   "source": [
    "The numPages variable of PdfFileReader stores the number of pages in the PDF document."
   ]
  },
  {
   "cell_type": "markdown",
   "id": "86c0cb82",
   "metadata": {},
   "source": [
    "### 4. If a PdfFileReader object’s PDF is encrypted with the password swordfish, what must you do before you can obtain Page objects from it?"
   ]
  },
  {
   "cell_type": "markdown",
   "id": "83934bf7",
   "metadata": {},
   "source": [
    "##### ANSWER:  "
   ]
  },
  {
   "cell_type": "markdown",
   "id": "f1a0a71d",
   "metadata": {},
   "source": [
    "If a PdfFileReader object’s PDF is encrypted with the password swordfish, you must do the following before you can obtain Page objects from it :\n",
    "\n",
    "Call decrypt('swordfish')"
   ]
  },
  {
   "cell_type": "markdown",
   "id": "a270e006",
   "metadata": {},
   "source": [
    "### 5. What methods do you use to rotate a page?"
   ]
  },
  {
   "cell_type": "markdown",
   "id": "253d8ebe",
   "metadata": {},
   "source": [
    "##### ANSWER:  "
   ]
  },
  {
   "cell_type": "markdown",
   "id": "38ddb539",
   "metadata": {},
   "source": [
    "The following are the methods that you can use to rotate a page:\n",
    "\n",
    "- rotateClockwise()\n",
    "\n",
    "\n",
    "- rotateCounterClockwise()\n",
    "\n",
    "\n",
    "The degrees to rotate is passed as an integer argument."
   ]
  },
  {
   "cell_type": "markdown",
   "id": "bb8fc5cb",
   "metadata": {},
   "source": [
    "### 6. What is the difference between a Run object and a Paragraph object?"
   ]
  },
  {
   "cell_type": "markdown",
   "id": "1bee3214",
   "metadata": {},
   "source": [
    "##### ANSWER:  "
   ]
  },
  {
   "cell_type": "markdown",
   "id": "35126656",
   "metadata": {},
   "source": [
    "A document contains multiple paragraphs. A paragraph begins on a new line and contains multiple runs. Runs are contiguous groups of characters within a paragraph."
   ]
  },
  {
   "cell_type": "markdown",
   "id": "7d2a0267",
   "metadata": {},
   "source": [
    "### 7. How do you obtain a list of Paragraph objects for a Document object that’s stored in a variable named doc?"
   ]
  },
  {
   "cell_type": "markdown",
   "id": "a54e3b27",
   "metadata": {},
   "source": [
    "##### ANSWER:  "
   ]
  },
  {
   "cell_type": "markdown",
   "id": "37ac76ce",
   "metadata": {},
   "source": [
    "By using doc.paragraphs, you can obtain a list of Paragraph objects for a Document object that's stored in a variable named doc."
   ]
  },
  {
   "cell_type": "markdown",
   "id": "34cebff1",
   "metadata": {},
   "source": [
    "### 8. What type of object has bold, underline, italic, strike, and outline variables?"
   ]
  },
  {
   "cell_type": "markdown",
   "id": "1055c09a",
   "metadata": {},
   "source": [
    "##### ANSWER:  "
   ]
  },
  {
   "cell_type": "markdown",
   "id": "0a9583e9",
   "metadata": {},
   "source": [
    "A Run object has bold, underline, italic, strike, and outline variables."
   ]
  },
  {
   "cell_type": "markdown",
   "id": "1ee4f869",
   "metadata": {},
   "source": [
    "### 9. What is the difference between False, True, and None for the bold variable?"
   ]
  },
  {
   "cell_type": "markdown",
   "id": "fe946c74",
   "metadata": {},
   "source": [
    "##### ANSWER:  "
   ]
  },
  {
   "cell_type": "markdown",
   "id": "946417ef",
   "metadata": {},
   "source": [
    "The difference between False, True, and None for the bold variable is as follows:\n",
    "\n",
    "\n",
    "- True always makes the Run object bolded.\n",
    "\n",
    "\n",
    "- False makes it always not bolded, no matter what the style’s bold setting is.\n",
    "\n",
    "\n",
    "- None will make the Run object just use the style’s bold setting."
   ]
  },
  {
   "cell_type": "markdown",
   "id": "b76e09de",
   "metadata": {},
   "source": [
    "### 10. How do you create a Document object for a new Word document?"
   ]
  },
  {
   "cell_type": "markdown",
   "id": "2258b254",
   "metadata": {},
   "source": [
    "##### ANSWER:  "
   ]
  },
  {
   "cell_type": "markdown",
   "id": "fc43005f",
   "metadata": {},
   "source": [
    "To create a Document object for a new Word Document you can do so by calling the docx.Document() function."
   ]
  },
  {
   "cell_type": "markdown",
   "id": "da8e9ebc",
   "metadata": {},
   "source": [
    "### 11. How do you add a paragraph with the text 'Hello, there!' to a Document object stored in a variable named doc?"
   ]
  },
  {
   "cell_type": "markdown",
   "id": "465b4d60",
   "metadata": {},
   "source": [
    "##### ANSWER: "
   ]
  },
  {
   "cell_type": "markdown",
   "id": "c2b0cd3d",
   "metadata": {},
   "source": [
    "To add a paragraph with the text 'Hello, there!' to a Document object stored in a variable named doc just do the following :\n",
    "\n",
    "doc.add_paragraph('Hello there!')"
   ]
  },
  {
   "cell_type": "markdown",
   "id": "a0c6af3d",
   "metadata": {},
   "source": [
    "### 12. What integers represent the levels of headings available in Word documents?"
   ]
  },
  {
   "cell_type": "markdown",
   "id": "6a5202d8",
   "metadata": {},
   "source": [
    "##### ANSWER:  "
   ]
  },
  {
   "cell_type": "markdown",
   "id": "468441f9",
   "metadata": {},
   "source": [
    "The integers that represent the levels of headings available in Word documents are 0, 1, 2, 3, and 4."
   ]
  }
 ],
 "metadata": {
  "kernelspec": {
   "display_name": "Python 3 (ipykernel)",
   "language": "python",
   "name": "python3"
  },
  "language_info": {
   "codemirror_mode": {
    "name": "ipython",
    "version": 3
   },
   "file_extension": ".py",
   "mimetype": "text/x-python",
   "name": "python",
   "nbconvert_exporter": "python",
   "pygments_lexer": "ipython3",
   "version": "3.9.7"
  }
 },
 "nbformat": 4,
 "nbformat_minor": 5
}
