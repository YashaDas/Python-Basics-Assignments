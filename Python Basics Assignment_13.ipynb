{
 "cells": [
  {
   "cell_type": "markdown",
   "id": "b1d3fcf5",
   "metadata": {},
   "source": [
    "# Python Basics Assignment_13"
   ]
  },
  {
   "cell_type": "markdown",
   "id": "3309d6d5",
   "metadata": {},
   "source": [
    "### 1. What advantages do Excel spreadsheets have over CSV spreadsheets?"
   ]
  },
  {
   "cell_type": "markdown",
   "id": "006d3a01",
   "metadata": {},
   "source": [
    "##### ANSWER:"
   ]
  },
  {
   "cell_type": "markdown",
   "id": "407d9b5e",
   "metadata": {},
   "source": [
    "The following are the advantages that Excel spreadsheets have over CSV spreadsheets :\n",
    "\n",
    "- Excel spreadsheets can have values of data types other than strings.\n",
    "\n",
    "\n",
    "- Cells can have different fonts, sizes, or color settings.\n",
    "\n",
    "\n",
    "- Cells can have varying widths and heights.\n",
    "\n",
    "\n",
    "- Adjacent cells can be merged.\n",
    "\n",
    "\n",
    "- You can embed images and charts.\n",
    "\n"
   ]
  },
  {
   "cell_type": "markdown",
   "id": "8db48ae5",
   "metadata": {},
   "source": [
    "### 2. What do you pass to csv.reader() and csv.writer() to create reader and writer objects?"
   ]
  },
  {
   "cell_type": "markdown",
   "id": "6dba2266",
   "metadata": {},
   "source": [
    "##### ANSWER: "
   ]
  },
  {
   "cell_type": "markdown",
   "id": "ac11bcc3",
   "metadata": {},
   "source": [
    "You pass a File object, obtained from a call to open(), in order to create reader and writer objects using csv.reader() and csv.writer()."
   ]
  },
  {
   "cell_type": "markdown",
   "id": "0a2a5079",
   "metadata": {},
   "source": [
    "### 3. What modes do File objects for reader and writer objects need to be opened in?"
   ]
  },
  {
   "cell_type": "markdown",
   "id": "89126624",
   "metadata": {},
   "source": [
    "##### ANSWER: "
   ]
  },
  {
   "cell_type": "markdown",
   "id": "084100e1",
   "metadata": {},
   "source": [
    "File objects need to be opened in read-binary ('rb') for Reader objects and write-binary ('wb') for Writer objects."
   ]
  },
  {
   "cell_type": "markdown",
   "id": "d7029e30",
   "metadata": {},
   "source": [
    "### 4. What method takes a list argument and writes it to a CSV file?"
   ]
  },
  {
   "cell_type": "markdown",
   "id": "1b8087fa",
   "metadata": {},
   "source": [
    "##### ANSWER: "
   ]
  },
  {
   "cell_type": "markdown",
   "id": "f58d482e",
   "metadata": {},
   "source": [
    "The following method takes a list argument and writes it to a CSV file :\n",
    "\n",
    "- writerow() method."
   ]
  },
  {
   "cell_type": "markdown",
   "id": "6c701ce3",
   "metadata": {},
   "source": [
    "### 5. What do the keyword arguments delimiter and line terminator do?"
   ]
  },
  {
   "cell_type": "markdown",
   "id": "99055555",
   "metadata": {},
   "source": [
    "##### ANSWER:"
   ]
  },
  {
   "cell_type": "markdown",
   "id": "fb03f159",
   "metadata": {},
   "source": [
    "- The delimiter argument changes the string used to separate cells in a row.\n",
    "\n",
    "\n",
    "- The line terminator argument changes the string used to separate rows."
   ]
  },
  {
   "cell_type": "markdown",
   "id": "12b0e883",
   "metadata": {},
   "source": [
    "### 6. What function takes a string of JSON data and returns a Python data structure?"
   ]
  },
  {
   "cell_type": "markdown",
   "id": "977df523",
   "metadata": {},
   "source": [
    "##### ANSWER:"
   ]
  },
  {
   "cell_type": "markdown",
   "id": "8a7889e8",
   "metadata": {},
   "source": [
    "The following function takes a string of JSON data and returns a Python data structure :\n",
    "\n",
    "- json.loads()"
   ]
  },
  {
   "cell_type": "markdown",
   "id": "bf79e5f9",
   "metadata": {},
   "source": [
    "### 7. What function takes a Python data structure and returns a string of JSON data?"
   ]
  },
  {
   "cell_type": "markdown",
   "id": "6a4c5733",
   "metadata": {},
   "source": [
    "##### ANSWER: "
   ]
  },
  {
   "cell_type": "markdown",
   "id": "0e6d399f",
   "metadata": {},
   "source": [
    "The following function takes a Python data structure and returns a string of JSON data :\n",
    "\n",
    "- json.dumps()"
   ]
  }
 ],
 "metadata": {
  "kernelspec": {
   "display_name": "Python 3 (ipykernel)",
   "language": "python",
   "name": "python3"
  },
  "language_info": {
   "codemirror_mode": {
    "name": "ipython",
    "version": 3
   },
   "file_extension": ".py",
   "mimetype": "text/x-python",
   "name": "python",
   "nbconvert_exporter": "python",
   "pygments_lexer": "ipython3",
   "version": "3.9.7"
  }
 },
 "nbformat": 4,
 "nbformat_minor": 5
}
