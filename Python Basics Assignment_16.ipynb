{
 "cells": [
  {
   "cell_type": "markdown",
   "id": "37d10d1b",
   "metadata": {},
   "source": [
    "# Python Basics Assignment_16"
   ]
  },
  {
   "cell_type": "markdown",
   "id": "3d100445",
   "metadata": {},
   "source": [
    "### 1. Create a list called years_list, starting with the year of your birth, and each year thereafter until the year of your fifth birthday. For example, if you were born in 1980. the list would be years_list = [1980, 1981, 1982, 1983, 1984, 1985]."
   ]
  },
  {
   "cell_type": "markdown",
   "id": "66ce0db3",
   "metadata": {},
   "source": [
    "##### ANSWER:"
   ]
  },
  {
   "cell_type": "code",
   "execution_count": 1,
   "id": "66f756e7",
   "metadata": {},
   "outputs": [
    {
     "name": "stdout",
     "output_type": "stream",
     "text": [
      "[1994, 1995, 1996, 1997, 1998, 1999]\n"
     ]
    }
   ],
   "source": [
    "years_list = [x for x in range(1994,1994+6)]\n",
    "print (years_list)"
   ]
  },
  {
   "cell_type": "markdown",
   "id": "ddb8ebc3",
   "metadata": {},
   "source": [
    "### 2. In which year in years_list was your third birthday? Remember, you were 0 years of age for your first year."
   ]
  },
  {
   "cell_type": "markdown",
   "id": "1242c31d",
   "metadata": {},
   "source": [
    "##### ANSWER: "
   ]
  },
  {
   "cell_type": "code",
   "execution_count": 2,
   "id": "39c89319",
   "metadata": {},
   "outputs": [
    {
     "data": {
      "text/plain": [
       "1994"
      ]
     },
     "execution_count": 2,
     "metadata": {},
     "output_type": "execute_result"
    }
   ],
   "source": [
    "years_list[0]"
   ]
  },
  {
   "cell_type": "code",
   "execution_count": 3,
   "id": "7568ac3e",
   "metadata": {},
   "outputs": [
    {
     "data": {
      "text/plain": [
       "1997"
      ]
     },
     "execution_count": 3,
     "metadata": {},
     "output_type": "execute_result"
    }
   ],
   "source": [
    "# year of thir birthday in years_list \n",
    "\n",
    "years_list[3]"
   ]
  },
  {
   "cell_type": "markdown",
   "id": "bdff1b5f",
   "metadata": {},
   "source": [
    "### 3. In the years list, which year were you the oldest?"
   ]
  },
  {
   "cell_type": "markdown",
   "id": "12eedf40",
   "metadata": {},
   "source": [
    "##### ANSWER: "
   ]
  },
  {
   "cell_type": "code",
   "execution_count": 4,
   "id": "bb678944",
   "metadata": {},
   "outputs": [
    {
     "data": {
      "text/plain": [
       "1999"
      ]
     },
     "execution_count": 4,
     "metadata": {},
     "output_type": "execute_result"
    }
   ],
   "source": [
    "max(years_list)"
   ]
  },
  {
   "cell_type": "markdown",
   "id": "5e7d1e28",
   "metadata": {},
   "source": [
    "### 4. Make a list called things with these three strings as elements: \"mozzarella\", \"cinderella\", \"salmonella\"."
   ]
  },
  {
   "cell_type": "markdown",
   "id": "806d6728",
   "metadata": {},
   "source": [
    "##### ANSWER: "
   ]
  },
  {
   "cell_type": "code",
   "execution_count": 5,
   "id": "339d48ae",
   "metadata": {},
   "outputs": [],
   "source": [
    "things = [\"mozzarella\", \"cinderella\", \"salmonella\"]"
   ]
  },
  {
   "cell_type": "markdown",
   "id": "aa7e3800",
   "metadata": {},
   "source": [
    "### 5. Capitalize the element in things that refers to a person and then print the list. Did it change the element in the list?"
   ]
  },
  {
   "cell_type": "markdown",
   "id": "d724f1c6",
   "metadata": {},
   "source": [
    "##### ANSWER: "
   ]
  },
  {
   "cell_type": "code",
   "execution_count": 6,
   "id": "40cf6461",
   "metadata": {},
   "outputs": [
    {
     "name": "stdout",
     "output_type": "stream",
     "text": [
      "Mozzarella\n",
      "Cinderella\n",
      "Salmonella\n",
      "['mozzarella', 'cinderella', 'salmonella']\n"
     ]
    }
   ],
   "source": [
    "for i in things:\n",
    "    print(i.capitalize(),)\n",
    "print (things)"
   ]
  },
  {
   "cell_type": "markdown",
   "id": "5ab7d560",
   "metadata": {},
   "source": [
    "### 6. Make a surprise list with the elements \"Groucho,\" \"Chico,\" and \"Harpo.\""
   ]
  },
  {
   "cell_type": "markdown",
   "id": "a59bdab9",
   "metadata": {},
   "source": [
    "##### ANSWER:"
   ]
  },
  {
   "cell_type": "code",
   "execution_count": 7,
   "id": "cb6ee93b",
   "metadata": {},
   "outputs": [],
   "source": [
    "surprise = [\"Groucho\", \"Chico\", \"Harpo\"]"
   ]
  },
  {
   "cell_type": "markdown",
   "id": "ba3ffec0",
   "metadata": {},
   "source": [
    "### 7. Lowercase the last element of the surprise list, reverse it, and then capitalize it."
   ]
  },
  {
   "cell_type": "markdown",
   "id": "746d7e54",
   "metadata": {},
   "source": [
    "##### ANSWER: "
   ]
  },
  {
   "cell_type": "code",
   "execution_count": 8,
   "id": "d94b1d6e",
   "metadata": {},
   "outputs": [
    {
     "name": "stdout",
     "output_type": "stream",
     "text": [
      "harpo\n"
     ]
    }
   ],
   "source": [
    "s1 = surprise[-1].lower()\n",
    "print(s1)"
   ]
  },
  {
   "cell_type": "code",
   "execution_count": 9,
   "id": "7ad198aa",
   "metadata": {},
   "outputs": [
    {
     "name": "stdout",
     "output_type": "stream",
     "text": [
      "oprah\n"
     ]
    }
   ],
   "source": [
    "s2 = s1[::-1] \n",
    "print(s2)"
   ]
  },
  {
   "cell_type": "code",
   "execution_count": 10,
   "id": "c9287bd8",
   "metadata": {},
   "outputs": [
    {
     "name": "stdout",
     "output_type": "stream",
     "text": [
      "Harpo\n"
     ]
    }
   ],
   "source": [
    "s3 = s1.capitalize()\n",
    "print(s3)"
   ]
  },
  {
   "cell_type": "markdown",
   "id": "a582a625",
   "metadata": {},
   "source": [
    "### 8. Make an English-to-French dictionary called e2f and print it. Here are your starter words: dog is chien, cat is chat, and walrus is morse."
   ]
  },
  {
   "cell_type": "markdown",
   "id": "e2b12c98",
   "metadata": {},
   "source": [
    "##### ANSWER: "
   ]
  },
  {
   "cell_type": "code",
   "execution_count": 11,
   "id": "1eb91513",
   "metadata": {},
   "outputs": [],
   "source": [
    "e2f = {'dog':'chien', 'cat':'chat', 'walrus':'morse'}"
   ]
  },
  {
   "cell_type": "markdown",
   "id": "e29340f1",
   "metadata": {},
   "source": [
    "### 9. Write the French word for walrus in your three-word dictionary e2f."
   ]
  },
  {
   "cell_type": "markdown",
   "id": "b96ebb70",
   "metadata": {},
   "source": [
    "##### ANSWER: "
   ]
  },
  {
   "cell_type": "code",
   "execution_count": 12,
   "id": "e7fc98f1",
   "metadata": {},
   "outputs": [
    {
     "data": {
      "text/plain": [
       "'morse'"
      ]
     },
     "execution_count": 12,
     "metadata": {},
     "output_type": "execute_result"
    }
   ],
   "source": [
    "e2f['walrus']"
   ]
  },
  {
   "cell_type": "markdown",
   "id": "229b3d46",
   "metadata": {},
   "source": [
    "### 10. Make a French-to-English dictionary called f2e from e2f. Use the items method."
   ]
  },
  {
   "cell_type": "markdown",
   "id": "08f0180d",
   "metadata": {},
   "source": [
    "##### ANSWER: "
   ]
  },
  {
   "cell_type": "code",
   "execution_count": 13,
   "id": "d645a789",
   "metadata": {},
   "outputs": [
    {
     "name": "stdout",
     "output_type": "stream",
     "text": [
      "{'chien': 'dog', 'chat': 'cat', 'morse': 'walrus'}\n"
     ]
    }
   ],
   "source": [
    "f2e = dict((k,v) for v,k in e2f.items())\n",
    "print (f2e)"
   ]
  },
  {
   "cell_type": "markdown",
   "id": "d1b49a8a",
   "metadata": {},
   "source": [
    "### 11. Print the English version of the French word chien using f2e."
   ]
  },
  {
   "cell_type": "markdown",
   "id": "835da7ad",
   "metadata": {},
   "source": [
    "##### ANSWER: "
   ]
  },
  {
   "cell_type": "code",
   "execution_count": 14,
   "id": "30047f4a",
   "metadata": {},
   "outputs": [
    {
     "data": {
      "text/plain": [
       "'dog'"
      ]
     },
     "execution_count": 14,
     "metadata": {},
     "output_type": "execute_result"
    }
   ],
   "source": [
    "f2e['chien']"
   ]
  },
  {
   "cell_type": "markdown",
   "id": "ba729dce",
   "metadata": {},
   "source": [
    "### 12. Make and print a set of English words from the keys in e2f."
   ]
  },
  {
   "cell_type": "markdown",
   "id": "10b54dfb",
   "metadata": {},
   "source": [
    "##### ANSWER: "
   ]
  },
  {
   "cell_type": "code",
   "execution_count": 15,
   "id": "73e03c47",
   "metadata": {},
   "outputs": [
    {
     "data": {
      "text/plain": [
       "dict_keys(['dog', 'cat', 'walrus'])"
      ]
     },
     "execution_count": 15,
     "metadata": {},
     "output_type": "execute_result"
    }
   ],
   "source": [
    "e2f.keys()"
   ]
  },
  {
   "cell_type": "markdown",
   "id": "eddc77cf",
   "metadata": {},
   "source": [
    "### 13. Make a multilevel dictionary called life. Use these strings for the topmost keys: 'animals', 'plants', and 'other'. Make the 'animals' key refer to another dictionary with the keys 'cats', 'octopi', and 'emus'. Make the 'cats' key refer to a list of strings with the values 'Henri', 'Grumpy', and 'Lucy'. Make all the other keys refer to empty dictionaries."
   ]
  },
  {
   "cell_type": "markdown",
   "id": "a4596bd6",
   "metadata": {},
   "source": [
    "##### ANSWER: "
   ]
  },
  {
   "cell_type": "code",
   "execution_count": 16,
   "id": "4b5713f3",
   "metadata": {},
   "outputs": [],
   "source": [
    "animals ={'cats':['Henri','Grumpy','Lucy'],'octopi':'','emus':''}\n",
    "life ={'animals':animals,'plants':'','other':''}"
   ]
  },
  {
   "cell_type": "markdown",
   "id": "b9ec563e",
   "metadata": {},
   "source": [
    "### 14. Print the top-level keys of life."
   ]
  },
  {
   "cell_type": "markdown",
   "id": "38b09c45",
   "metadata": {},
   "source": [
    "##### ANSWER: "
   ]
  },
  {
   "cell_type": "code",
   "execution_count": 17,
   "id": "8a703698",
   "metadata": {},
   "outputs": [
    {
     "data": {
      "text/plain": [
       "dict_keys(['animals', 'plants', 'other'])"
      ]
     },
     "execution_count": 17,
     "metadata": {},
     "output_type": "execute_result"
    }
   ],
   "source": [
    "life.keys()"
   ]
  },
  {
   "cell_type": "markdown",
   "id": "bc5bc2a5",
   "metadata": {},
   "source": [
    "### 15. Print the keys for life['animals']."
   ]
  },
  {
   "cell_type": "markdown",
   "id": "3944ab48",
   "metadata": {},
   "source": [
    "##### ANSWER: "
   ]
  },
  {
   "cell_type": "code",
   "execution_count": 18,
   "id": "3091765f",
   "metadata": {},
   "outputs": [
    {
     "data": {
      "text/plain": [
       "dict_keys(['cats', 'octopi', 'emus'])"
      ]
     },
     "execution_count": 18,
     "metadata": {},
     "output_type": "execute_result"
    }
   ],
   "source": [
    "life['animals'].keys()"
   ]
  },
  {
   "cell_type": "markdown",
   "id": "d3e6c6f5",
   "metadata": {},
   "source": [
    "### 16. Print the values for life['animals']['cats']"
   ]
  },
  {
   "cell_type": "markdown",
   "id": "87071143",
   "metadata": {},
   "source": [
    "##### ANSWER: "
   ]
  },
  {
   "cell_type": "code",
   "execution_count": 19,
   "id": "e0bdd149",
   "metadata": {},
   "outputs": [
    {
     "data": {
      "text/plain": [
       "['Henri', 'Grumpy', 'Lucy']"
      ]
     },
     "execution_count": 19,
     "metadata": {},
     "output_type": "execute_result"
    }
   ],
   "source": [
    "life['animals']['cats']"
   ]
  }
 ],
 "metadata": {
  "kernelspec": {
   "display_name": "Python 3 (ipykernel)",
   "language": "python",
   "name": "python3"
  },
  "language_info": {
   "codemirror_mode": {
    "name": "ipython",
    "version": 3
   },
   "file_extension": ".py",
   "mimetype": "text/x-python",
   "name": "python",
   "nbconvert_exporter": "python",
   "pygments_lexer": "ipython3",
   "version": "3.9.7"
  }
 },
 "nbformat": 4,
 "nbformat_minor": 5
}
