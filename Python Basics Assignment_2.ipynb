{
 "cells": [
  {
   "cell_type": "markdown",
   "id": "6edf5a91",
   "metadata": {},
   "source": [
    "# Python Basics Assignment_2"
   ]
  },
  {
   "cell_type": "markdown",
   "id": "9033acfa",
   "metadata": {},
   "source": [
    "### 1. What are the two values of the Boolean data type? How do you write them?"
   ]
  },
  {
   "cell_type": "markdown",
   "id": "90aa6837",
   "metadata": {},
   "source": [
    "##### ANSWER: "
   ]
  },
  {
   "cell_type": "markdown",
   "id": "550803ef",
   "metadata": {},
   "source": [
    "The following are two values of the Boolean data type:\n",
    "\n",
    "- True\n",
    "\n",
    "- False\n",
    "\n",
    "The way to write the Boolean data type's values is: \n",
    "\n",
    "- The first letter is always in uppercase while the remaining letters are in lowercase."
   ]
  },
  {
   "cell_type": "markdown",
   "id": "1bb950ee",
   "metadata": {},
   "source": [
    "### 2. What are the three different types of Boolean operators?"
   ]
  },
  {
   "cell_type": "markdown",
   "id": "4558fc49",
   "metadata": {},
   "source": [
    "##### ANSWER: "
   ]
  },
  {
   "cell_type": "markdown",
   "id": "ef8ad512",
   "metadata": {},
   "source": [
    "The following are the three different types of Boolean operators:\n",
    "\n",
    "\n",
    "- AND\n",
    "\n",
    "\n",
    "- NOT\n",
    "\n",
    "\n",
    "- OR\n"
   ]
  },
  {
   "cell_type": "markdown",
   "id": "3d177a98",
   "metadata": {},
   "source": [
    "### 3. Make a list of each Boolean operator's truth tables (i.e. every possible combination of Boolean values for the operator and what it evaluate)."
   ]
  },
  {
   "cell_type": "markdown",
   "id": "d69ea66d",
   "metadata": {},
   "source": [
    "##### ANSWER: "
   ]
  },
  {
   "cell_type": "markdown",
   "id": "eb74b344",
   "metadata": {},
   "source": [
    "The following are the list of each Boolean Operator's Truth Tables:-\n",
    "\n",
    "- AND\n",
    "\n",
    "True and True is True.\n",
    "\n",
    "True and False is False.\n",
    "\n",
    "False and True is False.\n",
    "\n",
    "False and False is False.\n",
    "\n",
    "- NOT\n",
    "\n",
    "not True is False.\n",
    "\n",
    "not False is True.\n",
    "\n",
    "- OR\n",
    "\n",
    "True or True is True.\n",
    "\n",
    "True or False is True.\n",
    "\n",
    "False or True is True.\n",
    "\n",
    "False or False is False."
   ]
  },
  {
   "cell_type": "markdown",
   "id": "7c6a0519",
   "metadata": {},
   "source": [
    "### 4. What are the values of the following expressions?\n",
    "\n",
    "(5 > 4) and (3 == 5)\n",
    "\n",
    "not (5 > 4)\n",
    "\n",
    "(5 > 4) or (3 == 5)\n",
    "\n",
    "not ((5 > 4) or (3 == 5))\n",
    "\n",
    "(True and True) and (True == False)\n",
    "\n",
    "(not False) or (not True)\n"
   ]
  },
  {
   "cell_type": "markdown",
   "id": "340e842f",
   "metadata": {},
   "source": [
    "##### ANSWER: "
   ]
  },
  {
   "cell_type": "code",
   "execution_count": 18,
   "id": "02e4f2c7",
   "metadata": {},
   "outputs": [
    {
     "data": {
      "text/plain": [
       "False"
      ]
     },
     "execution_count": 18,
     "metadata": {},
     "output_type": "execute_result"
    }
   ],
   "source": [
    "(5 > 4) and (3 == 5)"
   ]
  },
  {
   "cell_type": "code",
   "execution_count": 19,
   "id": "f850fb1e",
   "metadata": {},
   "outputs": [
    {
     "data": {
      "text/plain": [
       "False"
      ]
     },
     "execution_count": 19,
     "metadata": {},
     "output_type": "execute_result"
    }
   ],
   "source": [
    "not (5 > 4)"
   ]
  },
  {
   "cell_type": "code",
   "execution_count": 20,
   "id": "d71fbbcd",
   "metadata": {},
   "outputs": [
    {
     "data": {
      "text/plain": [
       "True"
      ]
     },
     "execution_count": 20,
     "metadata": {},
     "output_type": "execute_result"
    }
   ],
   "source": [
    "(5 > 4) or (3 == 5)"
   ]
  },
  {
   "cell_type": "code",
   "execution_count": 21,
   "id": "f786b239",
   "metadata": {},
   "outputs": [
    {
     "data": {
      "text/plain": [
       "False"
      ]
     },
     "execution_count": 21,
     "metadata": {},
     "output_type": "execute_result"
    }
   ],
   "source": [
    "not ((5 > 4) or (3 == 5))"
   ]
  },
  {
   "cell_type": "code",
   "execution_count": 22,
   "id": "2d7414ea",
   "metadata": {},
   "outputs": [
    {
     "data": {
      "text/plain": [
       "False"
      ]
     },
     "execution_count": 22,
     "metadata": {},
     "output_type": "execute_result"
    }
   ],
   "source": [
    "(True and True) and (True == False)"
   ]
  },
  {
   "cell_type": "code",
   "execution_count": 23,
   "id": "7269f56c",
   "metadata": {},
   "outputs": [
    {
     "data": {
      "text/plain": [
       "True"
      ]
     },
     "execution_count": 23,
     "metadata": {},
     "output_type": "execute_result"
    }
   ],
   "source": [
    "(not False) or (not True)"
   ]
  },
  {
   "cell_type": "markdown",
   "id": "58402ef1",
   "metadata": {},
   "source": [
    "### 5. What are the six comparison operators?"
   ]
  },
  {
   "cell_type": "markdown",
   "id": "d163b581",
   "metadata": {},
   "source": [
    "##### ANSWER: "
   ]
  },
  {
   "cell_type": "markdown",
   "id": "9175a493",
   "metadata": {},
   "source": [
    "The following are the six comparison operators:\n",
    "\n",
    "== (equal to), != (not equal to), > (greater than), >= (greater than or equal to), < (less than), <= (less than or equal to).\n"
   ]
  },
  {
   "cell_type": "markdown",
   "id": "c1ecf7cb",
   "metadata": {},
   "source": [
    "### 6. How do you tell the difference between the equal to and assignment operators? Describe a condition and when you would use one."
   ]
  },
  {
   "cell_type": "markdown",
   "id": "c43a3ff9",
   "metadata": {},
   "source": [
    "##### ANSWER:  "
   ]
  },
  {
   "cell_type": "markdown",
   "id": "a095d850",
   "metadata": {},
   "source": [
    "The difference between the equal to and assignment operator is that --\n",
    "\n",
    "  == (equal to operator) - Compares two expressions and returns a Boolean.\n",
    "\n",
    "  = (assignment operator) - Stores value to a variable.\n",
    "\n",
    "\n",
    "A condition is an expression used in a flow control statement that evaluates to a Boolean value."
   ]
  },
  {
   "cell_type": "markdown",
   "id": "37255549",
   "metadata": {},
   "source": [
    "### 7. Identify the three blocks in this code:\n",
    "\n",
    "spam = 0\n",
    "\n",
    "if spam == 10:\n",
    "\n",
    "    print('eggs')\n",
    "    \n",
    "    if spam > 5:\n",
    "    \n",
    "        print('bacon')\n",
    "        \n",
    "    else:\n",
    "    \n",
    "        print('ham')\n",
    "        \n",
    "        print('spam')\n",
    "        \n",
    "\n",
    "print('spam')"
   ]
  },
  {
   "cell_type": "markdown",
   "id": "4804133a",
   "metadata": {},
   "source": [
    "##### ANSWER: "
   ]
  },
  {
   "cell_type": "markdown",
   "id": "22627b5c",
   "metadata": {},
   "source": [
    "The three blocks in this code are:\n",
    "\n",
    "\n",
    "- if spam == 10:\n",
    "    \n",
    "       print('eggs')\n",
    "    \n",
    "    \n",
    "    \n",
    "- if spam > 5:\n",
    "    \n",
    "       print('bacon')\n",
    "    \n",
    "    \n",
    "    \n",
    "- else:\n",
    "    \n",
    "      print('ham')\n",
    "      \n",
    "      print('spam')"
   ]
  },
  {
   "cell_type": "markdown",
   "id": "d6b6b8b6",
   "metadata": {},
   "source": [
    "### 8. Write code that prints Hello if 1 is stored in spam, prints Howdy if 2 is stored in spam, and prints Greetings! if anything else is stored in spam."
   ]
  },
  {
   "cell_type": "markdown",
   "id": "55f52cfa",
   "metadata": {},
   "source": [
    "##### ANSWER:  "
   ]
  },
  {
   "cell_type": "code",
   "execution_count": 24,
   "id": "6f42e223",
   "metadata": {},
   "outputs": [
    {
     "name": "stdout",
     "output_type": "stream",
     "text": [
      "Hello\n"
     ]
    }
   ],
   "source": [
    "# Code that prints Hello if 1 is stored in spam\n",
    "\n",
    "spam = 1\n",
    "if spam == 1:\n",
    "    print('Hello')\n",
    "elif spam == 2:\n",
    "    print('Howdy')\n",
    "elif spam == 3:\n",
    "    print('Greetings!')"
   ]
  },
  {
   "cell_type": "code",
   "execution_count": 25,
   "id": "f4432c94",
   "metadata": {},
   "outputs": [
    {
     "name": "stdout",
     "output_type": "stream",
     "text": [
      "Howdy\n"
     ]
    }
   ],
   "source": [
    "# Code that prints Howdy if 2 is stroed in spam\n",
    "\n",
    "spam = 2\n",
    "if spam == 1:\n",
    "    print('Hello')\n",
    "elif spam == 2:\n",
    "    print('Howdy')\n",
    "elif spam == 3:\n",
    "    print('Greetings!')"
   ]
  },
  {
   "cell_type": "code",
   "execution_count": 26,
   "id": "cd03c131",
   "metadata": {},
   "outputs": [
    {
     "name": "stdout",
     "output_type": "stream",
     "text": [
      "Greetings!\n"
     ]
    }
   ],
   "source": [
    "# Code that prints Greetings! is anything else is stored in spam,i.e., 3 here for example\n",
    "\n",
    "spam = 3\n",
    "if spam == 1:\n",
    "    print('Hello')\n",
    "elif spam == 2:\n",
    "    print('Howdy')\n",
    "elif spam == 3:\n",
    "    print('Greetings!')"
   ]
  },
  {
   "cell_type": "markdown",
   "id": "9ef4a055",
   "metadata": {},
   "source": [
    "### 9. If your programme is stuck in an endless loop, what keys you’ll press?"
   ]
  },
  {
   "cell_type": "markdown",
   "id": "a3748aa2",
   "metadata": {},
   "source": [
    "##### ANSWER:  "
   ]
  },
  {
   "cell_type": "markdown",
   "id": "07ff0714",
   "metadata": {},
   "source": [
    "CTRL+C"
   ]
  },
  {
   "cell_type": "markdown",
   "id": "0031d7e5",
   "metadata": {},
   "source": [
    "### 10. How can you tell the difference between break and continue?"
   ]
  },
  {
   "cell_type": "markdown",
   "id": "b8ec33c2",
   "metadata": {},
   "source": [
    "##### ANSWER:  "
   ]
  },
  {
   "cell_type": "markdown",
   "id": "635ad658",
   "metadata": {},
   "source": [
    "The diffrence between break and continue is:-\n",
    "\n",
    "- break - The break statement in Python terminates the current loop and resumes execution at the next statement.\n",
    "\n",
    "\n",
    "- continue - The continue statement in Python returns the control to the beginning of the while loop. The continue statement rejects all the remaining statements in the current iteration of the loop and moves the control back to the top of the loop."
   ]
  },
  {
   "cell_type": "markdown",
   "id": "27a48d36",
   "metadata": {},
   "source": [
    "### 11. In a for loop, what is the difference between range(10), range(0, 10), and range(0, 10, 1)?"
   ]
  },
  {
   "cell_type": "markdown",
   "id": "451fc015",
   "metadata": {},
   "source": [
    "##### ANSWER:  "
   ]
  },
  {
   "cell_type": "markdown",
   "id": "078b4e08",
   "metadata": {},
   "source": [
    "In a for loop, the following is the diffrenece between range(10), range(0,10) and range(0,10,1) is:-\n",
    "\n",
    "\n",
    "- range(10) - Calls ranges from 0 up to 10 (but excluding 10).\n",
    "\n",
    "\n",
    "- range(0,10) - Explicitly tells the loop to start at 0.\n",
    "\n",
    "\n",
    "- range(0,10,1) - Explicitly tells the loop to increase the variable by 1 on each iteration."
   ]
  },
  {
   "cell_type": "markdown",
   "id": "ea2900f9",
   "metadata": {},
   "source": [
    "### 12. Write a short program that prints the numbers 1 to 10 using a for loop. Then write an equivalent program that prints the numbers 1 to 10 using a while loop."
   ]
  },
  {
   "cell_type": "markdown",
   "id": "375b25c1",
   "metadata": {},
   "source": [
    "##### ANSWER:  "
   ]
  },
  {
   "cell_type": "code",
   "execution_count": 27,
   "id": "e6c04b59",
   "metadata": {},
   "outputs": [
    {
     "name": "stdout",
     "output_type": "stream",
     "text": [
      "1\n",
      "2\n",
      "3\n",
      "4\n",
      "5\n",
      "6\n",
      "7\n",
      "8\n",
      "9\n",
      "10\n"
     ]
    }
   ],
   "source": [
    "# Program that prints the numbers 1 to 10 using a for loop\n",
    "\n",
    "for i in range(1, 11):\n",
    "    print(i)"
   ]
  },
  {
   "cell_type": "code",
   "execution_count": 28,
   "id": "1a085e7d",
   "metadata": {},
   "outputs": [
    {
     "name": "stdout",
     "output_type": "stream",
     "text": [
      "1\n",
      "2\n",
      "3\n",
      "4\n",
      "5\n",
      "6\n",
      "7\n",
      "8\n",
      "9\n",
      "10\n"
     ]
    }
   ],
   "source": [
    "# Program that prints the numbers 1 to 10 using a while loop\n",
    "\n",
    "i = 1\n",
    "while i <= 10:\n",
    "    print(i)\n",
    "    i = i + 1\n",
    "    continue"
   ]
  },
  {
   "cell_type": "markdown",
   "id": "2224bd18",
   "metadata": {},
   "source": [
    "### 13. If you had a function named bacon() inside a module named spam, how would you call it after importing spam?"
   ]
  },
  {
   "cell_type": "markdown",
   "id": "30fcf833",
   "metadata": {},
   "source": [
    "##### ANSWER: "
   ]
  },
  {
   "cell_type": "markdown",
   "id": "35f15f52",
   "metadata": {},
   "source": [
    "spam.bacon()"
   ]
  }
 ],
 "metadata": {
  "kernelspec": {
   "display_name": "Python 3 (ipykernel)",
   "language": "python",
   "name": "python3"
  },
  "language_info": {
   "codemirror_mode": {
    "name": "ipython",
    "version": 3
   },
   "file_extension": ".py",
   "mimetype": "text/x-python",
   "name": "python",
   "nbconvert_exporter": "python",
   "pygments_lexer": "ipython3",
   "version": "3.9.7"
  }
 },
 "nbformat": 4,
 "nbformat_minor": 5
}
