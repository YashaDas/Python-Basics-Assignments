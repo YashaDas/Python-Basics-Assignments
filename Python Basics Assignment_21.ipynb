{
 "cells": [
  {
   "cell_type": "markdown",
   "id": "8031e4ff",
   "metadata": {},
   "source": [
    "# Python Basics Assignment_21"
   ]
  },
  {
   "cell_type": "markdown",
   "id": "fb65eb34",
   "metadata": {},
   "source": [
    "### 1. Add the current date to the text file today.txt as a string."
   ]
  },
  {
   "cell_type": "markdown",
   "id": "97efbe0d",
   "metadata": {},
   "source": [
    "##### ANSWER: "
   ]
  },
  {
   "cell_type": "code",
   "execution_count": 14,
   "id": "de93d713",
   "metadata": {},
   "outputs": [
    {
     "name": "stdout",
     "output_type": "stream",
     "text": [
      "Current_date : 2022-05-26\n"
     ]
    }
   ],
   "source": [
    "import datetime\n",
    "from datetime import date\n",
    "current_date = date.today().strftime(\"%Y-%m-%d\")\n",
    "print(\"Current_date :\", current_date)"
   ]
  },
  {
   "cell_type": "code",
   "execution_count": 15,
   "id": "f234420b",
   "metadata": {},
   "outputs": [],
   "source": [
    "with open('today.txt' , 'w') as file:\n",
    "    file.write(current_date)"
   ]
  },
  {
   "cell_type": "markdown",
   "id": "d96d2d6c",
   "metadata": {},
   "source": [
    "### 2. Read the text file today.txt into the string today_string."
   ]
  },
  {
   "cell_type": "markdown",
   "id": "cbc7bb2b",
   "metadata": {},
   "source": [
    "##### ANSWER: "
   ]
  },
  {
   "cell_type": "code",
   "execution_count": 20,
   "id": "779f700b",
   "metadata": {},
   "outputs": [
    {
     "data": {
      "text/plain": [
       "'2022-05-26'"
      ]
     },
     "execution_count": 20,
     "metadata": {},
     "output_type": "execute_result"
    }
   ],
   "source": [
    "with open('today.txt', 'r') as file:\n",
    "    today_string = file.read().replace('\\n', '')\n",
    "today_string"
   ]
  },
  {
   "cell_type": "markdown",
   "id": "a679989a",
   "metadata": {},
   "source": [
    "### 3. Parse the date from today_string."
   ]
  },
  {
   "cell_type": "markdown",
   "id": "2588efb5",
   "metadata": {},
   "source": [
    "##### ANSWER: "
   ]
  },
  {
   "cell_type": "code",
   "execution_count": 34,
   "id": "5a89653f",
   "metadata": {},
   "outputs": [
    {
     "name": "stdout",
     "output_type": "stream",
     "text": [
      "The type of the date is <class 'datetime.datetime'>\n",
      "The date is 2022-05-26 00:00:00\n"
     ]
    }
   ],
   "source": [
    "from datetime import datetime\n",
    "\n",
    "today_string = '2022-05-26'\n",
    "\n",
    "date_object = datetime.strptime(today_string, '%Y-%m-%d')\n",
    "\n",
    "\n",
    "print (\"The type of the date is\",  type(date_object))\n",
    "print (\"The date is\", date_object)"
   ]
  },
  {
   "cell_type": "markdown",
   "id": "da798793",
   "metadata": {},
   "source": [
    "### 4. List the files in your current directory."
   ]
  },
  {
   "cell_type": "markdown",
   "id": "ab338a3e",
   "metadata": {},
   "source": [
    "##### ANSWER: "
   ]
  },
  {
   "cell_type": "code",
   "execution_count": 35,
   "id": "968ee164",
   "metadata": {},
   "outputs": [
    {
     "name": "stdout",
     "output_type": "stream",
     "text": [
      "['.ipynb_checkpoints', 'books.csv', 'books.db', 'Python Basics Assignment_1.ipynb', 'Python Basics Assignment_10.ipynb', 'Python Basics Assignment_11.ipynb', 'Python Basics Assignment_12.ipynb', 'Python Basics Assignment_13.ipynb', 'Python Basics Assignment_14.ipynb', 'Python Basics Assignment_15.ipynb', 'Python Basics Assignment_16.ipynb', 'Python Basics Assignment_17.ipynb', 'Python Basics Assignment_18.ipynb', 'Python Basics Assignment_19.ipynb', 'Python Basics Assignment_2.ipynb', 'Python Basics Assignment_20.ipynb', 'Python Basics Assignment_21.ipynb', 'Python Basics Assignment_3.ipynb', 'Python Basics Assignment_4.ipynb', 'Python Basics Assignment_5.ipynb', 'Python Basics Assignment_6.ipynb', 'Python Basics Assignment_7.ipynb', 'Python Basics Assignment_8.ipynb', 'Python Basics Assignment_9.ipynb', 'test.txt', 'today.txt', 'zoo.py', '__pycache__']\n"
     ]
    }
   ],
   "source": [
    "import os\n",
    "curr_dir = os.listdir('.')\n",
    "print(curr_dir)"
   ]
  },
  {
   "cell_type": "markdown",
   "id": "2a8daa8b",
   "metadata": {},
   "source": [
    "### 5. Create a list of all of the files in your parent directory (minimum five files should be available)."
   ]
  },
  {
   "cell_type": "markdown",
   "id": "2886e8f9",
   "metadata": {},
   "source": [
    "##### ANSWER: "
   ]
  },
  {
   "cell_type": "code",
   "execution_count": 36,
   "id": "8b5dade5",
   "metadata": {},
   "outputs": [
    {
     "name": "stdout",
     "output_type": "stream",
     "text": [
      "['.conda', '.condarc', '.continuum', '.ipynb_checkpoints', '.ipython', '.jupyter', '.matplotlib', '.spyder-py3', '.vscode', '3D Objects', 'anaconda3', 'AppData', 'Application Data', 'Class 1 -- 14-05-22.ipynb', 'Class 2 -- 15-05-22.ipynb', 'Class 3 -- 21-05-22.ipynb', 'Class 4 -- 22-05-22.ipynb', 'Contacts', 'Cookies', 'Desktop', 'Documents', 'Downloads', 'Favorites', 'IntelGraphicsProfiles', 'Links', 'Local Settings', 'Music', 'My Documents', 'NetHood', 'NTUSER.DAT', 'ntuser.dat.LOG1', 'ntuser.dat.LOG2', 'NTUSER.DAT{53b39e88-18c4-11ea-a811-000d3aa4692b}.TM.blf', 'NTUSER.DAT{53b39e88-18c4-11ea-a811-000d3aa4692b}.TMContainer00000000000000000001.regtrans-ms', 'NTUSER.DAT{53b39e88-18c4-11ea-a811-000d3aa4692b}.TMContainer00000000000000000002.regtrans-ms', 'ntuser.ini', 'OneDrive', 'Pictures', 'PrintHood', 'Python Basics Assignment', 'Questions assigned in Full Stack Data Science Class -- 21-05-22.ipynb', 'Recent', 'Saved Games', 'Searches', 'SendTo', 'Start Menu', 'Task assigned in Full Stack Data Science Class -- 15-05-22.ipynb', 'Templates', 'Videos']\n"
     ]
    }
   ],
   "source": [
    "import os\n",
    "parent_dir = os.listdir('..')\n",
    "print(parent_dir)"
   ]
  },
  {
   "cell_type": "markdown",
   "id": "a247d62c",
   "metadata": {},
   "source": [
    "### 6. Use multiprocessing to create three separate processes. Make each one wait a random number of seconds between one and five, print the current time, and then exit."
   ]
  },
  {
   "cell_type": "markdown",
   "id": "c973b742",
   "metadata": {},
   "source": [
    "##### ANSWER: "
   ]
  },
  {
   "cell_type": "code",
   "execution_count": 76,
   "id": "349f3920",
   "metadata": {},
   "outputs": [],
   "source": [
    "import multiprocessing\n",
    "\n",
    "def printsec(seconds):\n",
    "    from datetime import datetime\n",
    "    from time import sleep\n",
    "    sleep(seconds)\n",
    "    print('wait', seconds, 'seconds, time is', datetime.utcnow())\n",
    "    \n",
    "if __name__ == '__main__':\n",
    "    import random    \n",
    "    for n in range(3):\n",
    "        seconds = random.random()\n",
    "        proc = multiprocessing.Process(target=printsec, args=(seconds,))\n",
    "        proc.start()"
   ]
  },
  {
   "cell_type": "code",
   "execution_count": 78,
   "id": "d99b57b9",
   "metadata": {},
   "outputs": [
    {
     "name": "stdout",
     "output_type": "stream",
     "text": [
      "wait 0.5829155215933525 seconds, time is 2022-05-26 14:20:05.849762\n",
      "wait 0.7746869003132724 seconds, time is 2022-05-26 14:20:06.034875\n",
      "wait 0.815357018607084 seconds, time is 2022-05-26 14:20:06.076833\n"
     ]
    }
   ],
   "source": [
    "!python abc.py"
   ]
  },
  {
   "cell_type": "markdown",
   "id": "c17ab433",
   "metadata": {},
   "source": [
    "### 7. Create a date object of your day of birth."
   ]
  },
  {
   "cell_type": "markdown",
   "id": "52a066cd",
   "metadata": {},
   "source": [
    "##### ANSWER: "
   ]
  },
  {
   "cell_type": "code",
   "execution_count": 64,
   "id": "94c7fe9c",
   "metadata": {},
   "outputs": [
    {
     "name": "stdout",
     "output_type": "stream",
     "text": [
      "My day of birth is 1994-09-30\n"
     ]
    }
   ],
   "source": [
    "class Birthday:\n",
    "    def __init__(self, date):\n",
    "        self.date = date\n",
    "    \n",
    "\n",
    "    def mybirthday(self):\n",
    "        print(\"My day of birth is \" + self.date)\n",
    "\n",
    "day_of_birth = Birthday(\"1994-09-30\")\n",
    "day_of_birth.mybirthday()"
   ]
  },
  {
   "cell_type": "markdown",
   "id": "0e562d67",
   "metadata": {},
   "source": [
    "### 8. What day of the week was your day of birth?"
   ]
  },
  {
   "cell_type": "markdown",
   "id": "e50c94f8",
   "metadata": {},
   "source": [
    "##### ANSWER: "
   ]
  },
  {
   "cell_type": "code",
   "execution_count": 65,
   "id": "6fa1d618",
   "metadata": {},
   "outputs": [
    {
     "name": "stdout",
     "output_type": "stream",
     "text": [
      "Friday\n"
     ]
    }
   ],
   "source": [
    "import calendar\n",
    " \n",
    "def findDay(date):\n",
    "    year, month, day = (int(i) for i in date.split('-'))   \n",
    "    dayNumber = calendar.weekday(year, month, day)\n",
    "    week_days =[\"Monday\", \"Tuesday\", \"Wednesday\", \"Thursday\",\n",
    "                         \"Friday\", \"Saturday\", \"Sunday\"]\n",
    "    return (week_days[dayNumber])\n",
    " \n",
    "print(findDay(date))"
   ]
  },
  {
   "cell_type": "markdown",
   "id": "34aa1bfc",
   "metadata": {},
   "source": [
    "### 9. When will you be (or when were you) 10,000 days old?"
   ]
  },
  {
   "cell_type": "markdown",
   "id": "cbe2f018",
   "metadata": {},
   "source": [
    "##### ANSWER: "
   ]
  },
  {
   "cell_type": "code",
   "execution_count": 66,
   "id": "c7d67fbc",
   "metadata": {},
   "outputs": [
    {
     "name": "stdout",
     "output_type": "stream",
     "text": [
      "2022-02-15\n"
     ]
    }
   ],
   "source": [
    "import datetime\n",
    "\n",
    "start_date = datetime.datetime(year=1994, month=9, day=30)\n",
    "\n",
    "end_date = start_date + datetime.timedelta(days=10000)\n",
    "\n",
    "print(end_date.date())"
   ]
  }
 ],
 "metadata": {
  "kernelspec": {
   "display_name": "Python 3 (ipykernel)",
   "language": "python",
   "name": "python3"
  },
  "language_info": {
   "codemirror_mode": {
    "name": "ipython",
    "version": 3
   },
   "file_extension": ".py",
   "mimetype": "text/x-python",
   "name": "python",
   "nbconvert_exporter": "python",
   "pygments_lexer": "ipython3",
   "version": "3.9.7"
  }
 },
 "nbformat": 4,
 "nbformat_minor": 5
}
