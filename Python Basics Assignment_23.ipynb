{
 "cells": [
  {
   "cell_type": "markdown",
   "id": "e6a2f053",
   "metadata": {},
   "source": [
    "# Python Basics Assignment_23"
   ]
  },
  {
   "cell_type": "markdown",
   "id": "a1b9bb55",
   "metadata": {},
   "source": [
    "### 1. What is the result of the code, and why?"
   ]
  },
  {
   "cell_type": "code",
   "execution_count": null,
   "id": "b769a67d",
   "metadata": {},
   "outputs": [],
   "source": [
    ">>> def func(a, b=6, c=8):\n",
    "print(a, b, c)\n",
    ">>> func(1, 2)"
   ]
  },
  {
   "cell_type": "markdown",
   "id": "ce363ab0",
   "metadata": {},
   "source": [
    "##### ANSWER:"
   ]
  },
  {
   "cell_type": "code",
   "execution_count": 1,
   "id": "ae1428fe",
   "metadata": {},
   "outputs": [
    {
     "name": "stdout",
     "output_type": "stream",
     "text": [
      "1 2 8\n"
     ]
    }
   ],
   "source": [
    "def func(a, b=6, c=8):\n",
    "    print(a, b, c)\n",
    "func(1, 2)"
   ]
  },
  {
   "cell_type": "markdown",
   "id": "51357629",
   "metadata": {},
   "source": [
    "- In the above code the func() function is taking one positional argument i.e., 'a' and two keyword arguments that are 'b=6'and 'c=8'. When the function call func(1, 2) is made, the paramters are passed as, a = 1, b = 2, and also the last parameter that is c is passed as c = 8 since it is present as a defult keyword argument. Hence, the result of the code is 1, 2, 8."
   ]
  },
  {
   "cell_type": "markdown",
   "id": "801713d8",
   "metadata": {},
   "source": [
    "### 2. What is the result of this code, and why?"
   ]
  },
  {
   "cell_type": "code",
   "execution_count": null,
   "id": "7b1cd494",
   "metadata": {},
   "outputs": [],
   "source": [
    ">>> def func(a, b, c=5):\n",
    "print(a, b, c)\n",
    ">>> func(1, c=3, b=2)"
   ]
  },
  {
   "cell_type": "markdown",
   "id": "8f4d0e7f",
   "metadata": {},
   "source": [
    "##### ANSWER: "
   ]
  },
  {
   "cell_type": "code",
   "execution_count": 2,
   "id": "7b2ebc8a",
   "metadata": {},
   "outputs": [
    {
     "name": "stdout",
     "output_type": "stream",
     "text": [
      "1 2 3\n"
     ]
    }
   ],
   "source": [
    "def func(a, b, c=5):\n",
    "    print(a, b, c)\n",
    "func(1, c=3, b=2)"
   ]
  },
  {
   "cell_type": "markdown",
   "id": "c2fd8eb3",
   "metadata": {},
   "source": [
    "- In the above code the func() function is taking two positional arguments that are 'a', 'b' and one keyword argument i.e., 'c=5'. When the function call func(1, c=3, b=2) is made, the parameter a, b and c are passed as 1, 2 and 3. Since the order of output is positional arguments and then keyword arguments. Also we can pass keyword arguments in any order we want. Hence, the result of this code is 1, 2, 3."
   ]
  },
  {
   "cell_type": "markdown",
   "id": "61b8b116",
   "metadata": {},
   "source": [
    "### 3. How about this code: what is its result, and why?"
   ]
  },
  {
   "cell_type": "code",
   "execution_count": null,
   "id": "66834a7c",
   "metadata": {},
   "outputs": [],
   "source": [
    ">>> def func(a, *pargs):\n",
    "print(a, pargs)\n",
    ">>> func(1, 2, 3)"
   ]
  },
  {
   "cell_type": "markdown",
   "id": "b2ea5fa5",
   "metadata": {},
   "source": [
    "##### ANSWER: "
   ]
  },
  {
   "cell_type": "code",
   "execution_count": 3,
   "id": "645c0b6a",
   "metadata": {},
   "outputs": [
    {
     "name": "stdout",
     "output_type": "stream",
     "text": [
      "1 (2, 3)\n"
     ]
    }
   ],
   "source": [
    "def func(a, *pargs):\n",
    "    print(a, pargs)\n",
    "func(1, 2, 3)"
   ]
  },
  {
   "cell_type": "markdown",
   "id": "c8ff1ee3",
   "metadata": {},
   "source": [
    "- In the above code the func() function is taking a positional argument i.e., 'a' and a non keyword argument i.e., *pargs. When the function call func(1, 2, 3) is made the parameter a is passed as 1. Whereas 2 and 3 are passed as tuple i.e, (2,3) since *pargs or *args is a non keyword argument whose return type is tuple. Hence, the result of the code is 1, (2, 3)."
   ]
  },
  {
   "cell_type": "markdown",
   "id": "a46a2a3e",
   "metadata": {},
   "source": [
    "### 4. What does this code print, and why?"
   ]
  },
  {
   "cell_type": "code",
   "execution_count": null,
   "id": "e83c6cd0",
   "metadata": {},
   "outputs": [],
   "source": [
    ">>> def func(a, **kargs):\n",
    "print(a, kargs)\n",
    ">>> func(a=1, c=3, b=2)"
   ]
  },
  {
   "cell_type": "markdown",
   "id": "6a9370f5",
   "metadata": {},
   "source": [
    "##### ANSWER: "
   ]
  },
  {
   "cell_type": "code",
   "execution_count": 4,
   "id": "3fc20d03",
   "metadata": {},
   "outputs": [
    {
     "name": "stdout",
     "output_type": "stream",
     "text": [
      "1 {'c': 3, 'b': 2}\n"
     ]
    }
   ],
   "source": [
    "def func(a, **kargs):\n",
    "    print(a, kargs)\n",
    "func(a=1, c=3, b=2)"
   ]
  },
  {
   "cell_type": "markdown",
   "id": "fbb2a480",
   "metadata": {},
   "source": [
    "- In the above code the func() function is taking a positional argument i.e., 'a' and a keyword argument i.e., *kargs. When the function call func(a=1, c=3, b=2) is made then the parameter a is passed as 1 as 'a=1', whereas the parameters'c=3' and 'b=2' are passed as dictionary i.e., '{'c' : 3, 'b' : 2}' since *kargs keyword argument whose return type is a dictionary. Also, keyword arguments can be passed in any order. Hence, the output of this code is 1, {'c' : 3, 'b' : 2}."
   ]
  },
  {
   "cell_type": "markdown",
   "id": "a51f893e",
   "metadata": {},
   "source": [
    "### 5. What gets printed by this, and explain?"
   ]
  },
  {
   "cell_type": "code",
   "execution_count": null,
   "id": "866d8a47",
   "metadata": {},
   "outputs": [],
   "source": [
    ">>> def func(a, b, c=8, d=5): print(a, b, c, d)\n",
    ">>> func(1, *(5, 6))"
   ]
  },
  {
   "cell_type": "markdown",
   "id": "23ac6b19",
   "metadata": {},
   "source": [
    "##### ANSWER: "
   ]
  },
  {
   "cell_type": "code",
   "execution_count": 7,
   "id": "ef23e125",
   "metadata": {},
   "outputs": [
    {
     "name": "stdout",
     "output_type": "stream",
     "text": [
      "1 5 6 5\n"
     ]
    }
   ],
   "source": [
    "def func(a, b, c=8, d=5): print(a, b, c, d)\n",
    "func(1, *(5, 6))"
   ]
  },
  {
   "cell_type": "markdown",
   "id": "7205a1cc",
   "metadata": {},
   "source": [
    "- In the above code the func() function takes two positional arguments that are 'a' and 'b' and two keyword arguments that are 'c=8' and 'd=5'. When the function call func(1, *(5, 6)) is made, the parameter 'a' is passed as 1, 'b' and 'c' are passed as 5 and 6 respectively, i.e., the '*' (asterisk operator) is the upacking operator that unpacks the values from iterable objects in python. Therefor, in the above code, *(5, 6) is upacked and the valuesare assigned to parameters 'b' and 'c' respectively and lastly the parameter 'd' is passed as 5, as present in the default keyword argument. Hence, the output of this code is 1, 5, 6, 5."
   ]
  },
  {
   "cell_type": "markdown",
   "id": "7cce2163",
   "metadata": {},
   "source": [
    "### 6. what is the result of this, and explain?"
   ]
  },
  {
   "cell_type": "code",
   "execution_count": null,
   "id": "e962ff53",
   "metadata": {},
   "outputs": [],
   "source": [
    ">>> def func(a, b, c): a = 2; b[0] = 'x'; c['a'] = 'y'\n",
    ">>> l=1; m=[1]; n={'a':0}\n",
    ">>> func(l, m, n)\n",
    ">>> l, m, n"
   ]
  },
  {
   "cell_type": "markdown",
   "id": "4c7e1113",
   "metadata": {},
   "source": [
    "##### ANSWER: "
   ]
  },
  {
   "cell_type": "code",
   "execution_count": 8,
   "id": "dbab6cac",
   "metadata": {},
   "outputs": [
    {
     "data": {
      "text/plain": [
       "(1, ['x'], {'a': 'y'})"
      ]
     },
     "execution_count": 8,
     "metadata": {},
     "output_type": "execute_result"
    }
   ],
   "source": [
    "def func(a, b, c): a = 2; b[0] = 'x'; c['a'] = 'y'\n",
    "l=1; m=[1]; n={'a':0}\n",
    "func(l, m, n)\n",
    "l, m, n"
   ]
  },
  {
   "cell_type": "markdown",
   "id": "2dd07fbc",
   "metadata": {},
   "source": [
    "- In the above code, the func() takes three positional arguments that are 'a', 'b' and 'c'. Then the parameters 'a' is assigned the integer value 2 as 'a=2', parameter 'b' reassigns the value 'x' in the zeroth index place of a list as b[0] = 'x', lastly the parameter 'c' reassigns the value 'y' to the key 'a' in a dictionary as c['a'] = 'y'. Then in the next line of code, 'l' is assigned an integer value 1 as 'l=1', 'm' is a list with an element as 'm = [1]', and 'n' is a dictionary with a key value pair as '{'a':0}'. When the function call func(l, m, n) is made, 'l' is passed as 1 since integer values are immutable, 'm' is passed as ['x'], since both list 'm' and parameter 'b' point to the same list in the memory location, and lastly 'n' is passed as '{'a':'y'}' since both dictionary 'n' and parameter 'c' point to the same dictionary in the memory location. Hence, the result of the code is (1, ['x'], {'a' : 'y'})."
   ]
  }
 ],
 "metadata": {
  "kernelspec": {
   "display_name": "Python 3 (ipykernel)",
   "language": "python",
   "name": "python3"
  },
  "language_info": {
   "codemirror_mode": {
    "name": "ipython",
    "version": 3
   },
   "file_extension": ".py",
   "mimetype": "text/x-python",
   "name": "python",
   "nbconvert_exporter": "python",
   "pygments_lexer": "ipython3",
   "version": "3.9.7"
  }
 },
 "nbformat": 4,
 "nbformat_minor": 5
}
