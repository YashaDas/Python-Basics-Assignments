{
 "cells": [
  {
   "cell_type": "markdown",
   "id": "d375da4b",
   "metadata": {},
   "source": [
    "# Python Basics Assignment_24"
   ]
  },
  {
   "cell_type": "markdown",
   "id": "388b03bc",
   "metadata": {},
   "source": [
    "### 1. What is the relationship between def statements and lambda expressions ?"
   ]
  },
  {
   "cell_type": "markdown",
   "id": "04fa7a03",
   "metadata": {},
   "source": [
    "##### ANSWER: "
   ]
  },
  {
   "cell_type": "markdown",
   "id": "2cf669ee",
   "metadata": {},
   "source": [
    "#### def statements\n",
    "\n",
    "\n",
    "A function is a group of related statements that performs a specific task. It is defined using the def keyword.\n",
    "\n",
    "\n",
    "##### Syntax of Function:\n",
    "\n",
    "def function_name(parameters):\n",
    "\n",
    "     \"\"\"docstring\"\"\"\n",
    "    \n",
    "      statement(s)\n",
    "\n",
    "\n",
    "#### lambda expressions\n",
    "\n",
    "An anonymous function is a function that is defined without a name.\n",
    "While normal functions are defined using the def keyword, anonymous functions are defined using the lambda keyword.\n",
    "Hence, anonymous functions are also called lambda expressions.\n",
    "\n",
    "\n",
    "\n",
    "##### Syntax of Lambda Expression:\n",
    "\n",
    "lambda arguments: expression\n",
    "\n",
    "*A lambda function can take any number of arguments, but can only have one expression.\n",
    "\n",
    "\n",
    "\n",
    "##### Use of Lambda Expression:\n",
    "\n",
    "We use lambda expression when we require a nameless function for a short period of time.\n",
    "We generally use it as an argument to a higher-order function (a function that takes in other functions as arguments). \n",
    "Lambda expressions are used along with built-in functions like filter(), map() etc."
   ]
  },
  {
   "cell_type": "markdown",
   "id": "2b6036a2",
   "metadata": {},
   "source": [
    "### 2. What is the benefit of lambda?"
   ]
  },
  {
   "cell_type": "markdown",
   "id": "bac5fccc",
   "metadata": {},
   "source": [
    "##### ANSWER:  "
   ]
  },
  {
   "cell_type": "markdown",
   "id": "6c4f6e0b",
   "metadata": {},
   "source": [
    "The following are the benefits of lambda:\n",
    "\n",
    "\n",
    "\n",
    "- Lambda functions reduce the number of lines of code when compared to normal python function.\n",
    "\n",
    "\n",
    "- Using lambda, you can define a function and call it immediately at the end of definition.\n",
    "\n",
    "\n",
    "- Lambda functions can be Immediately Invoked.\n",
    "\n",
    "\n",
    "- It is possible to write higher order functions using lambda.\n",
    "\n",
    "\n",
    "- Lambda functions accept all kinds of arguments, just like any normal function.\n",
    "\n",
    "\n",
    "- You can use lambda in filter(), map() and reduce() functions. "
   ]
  },
  {
   "cell_type": "markdown",
   "id": "f3f6e50d",
   "metadata": {},
   "source": [
    "### 3. Compare and contrast map, filter, and reduce."
   ]
  },
  {
   "cell_type": "markdown",
   "id": "caa2da95",
   "metadata": {},
   "source": [
    "##### ANSWER:  "
   ]
  },
  {
   "cell_type": "markdown",
   "id": "b3bf7baa",
   "metadata": {},
   "source": [
    "##### map()\n",
    "\n",
    "\n",
    "The map() function applies a given function to each item of an iterable (list, tuple etc.) and returns an iterator.\n",
    "\n",
    "\n",
    "\n",
    "##### map() Syntax\n",
    "\n",
    "\n",
    "Its syntax is:\n",
    "\n",
    "map(function, iterable, ...)\n",
    "\n",
    "\n",
    "\n",
    "##### map() Parameter\n",
    "\n",
    "The map() function takes two parameters:\n",
    "\n",
    "\n",
    "- function - a function that perform some action to each element of an iterable.\n",
    "\n",
    "- iterable - an iterable like sets, lists, tuples, etc.\n",
    "\n",
    "\n",
    "*You can pass more than one iterable to the map() function.\n",
    "\n",
    "\n",
    "\n",
    "##### map() Return Value\n",
    "\n",
    "\n",
    "The map() function returns an object of map class. The returned value can be passed to functions like -\n",
    "\n",
    "\n",
    "- list() - to convert to list.\n",
    "\n",
    "\n",
    "- set() - to convert to a set, and so on."
   ]
  },
  {
   "cell_type": "code",
   "execution_count": 8,
   "id": "30927fb1",
   "metadata": {},
   "outputs": [
    {
     "name": "stdout",
     "output_type": "stream",
     "text": [
      "<map object at 0x000001D4515E5DC0>\n",
      "['appleorange', 'bananalemon', 'cherrypineapple']\n"
     ]
    }
   ],
   "source": [
    "# Example: \n",
    "\n",
    "# Make new fruits by sending two iterable objects into the function:\n",
    "\n",
    "def myfunc(a, b):\n",
    "    return a + b\n",
    "\n",
    "x = map(myfunc, ('apple', 'banana', 'cherry'), ('orange', 'lemon', 'pineapple'))\n",
    "print(x)\n",
    "\n",
    "# converting the map into a list, for readability:\n",
    "\n",
    "print(list(x))"
   ]
  },
  {
   "cell_type": "markdown",
   "id": "830c4303",
   "metadata": {},
   "source": [
    "##### filter() \n",
    "\n",
    "\n",
    "The filter() function extracts elements from an iterable (list, tuple etc.) for which a function returns True.\n",
    "\n",
    "\n",
    "##### filter() Syntax\n",
    "\n",
    "\n",
    "Its syntax is:\n",
    "\n",
    "filter(function, iterable)\n",
    "\n",
    "\n",
    "##### filter() Arguments\n",
    "\n",
    "\n",
    "The filter() function takes two arguments:\n",
    "\n",
    "- function - a function.\n",
    "\n",
    "- iterable - an iterable like sets, lists, tuples etc.\n",
    "\n",
    "\n",
    "##### filter() Return Value\n",
    "\n",
    "\n",
    "The filter() function returns an iterator.\n",
    "\n",
    "\n",
    "**Note: You can easily convert iterators to sequences like lists, tuples, strings etc."
   ]
  },
  {
   "cell_type": "code",
   "execution_count": 12,
   "id": "8f0b4177",
   "metadata": {},
   "outputs": [
    {
     "name": "stdout",
     "output_type": "stream",
     "text": [
      "18\n",
      "24\n",
      "32\n"
     ]
    }
   ],
   "source": [
    "# Example\n",
    "\n",
    "# Filter the array, and return a new array with only the values equal to or above 18:\n",
    "\n",
    "ages = [5, 12, 17, 18, 24, 32]\n",
    "\n",
    "def myFunc(x):\n",
    "    if x < 18:\n",
    "        return False\n",
    "    else:\n",
    "        return True\n",
    "\n",
    "adults = filter(myFunc, ages)\n",
    "\n",
    "for x in adults:\n",
    "    print(x)"
   ]
  },
  {
   "cell_type": "markdown",
   "id": "18d5217c",
   "metadata": {},
   "source": [
    "##### reduce()\n",
    "\n",
    "reduce() implements a mathematical technique commonly known as folding or reduction. You’re doing a fold or reduction when you reduce a list of items to a single cumulative value. Python’s reduce() operates on any iterable—not just lists—and performs the following steps:\n",
    "\n",
    "- Apply a function (or callable) to the first two items in an iterable and generate a partial result.\n",
    "\n",
    "- Use that partial result, together with the third item in the iterable, to generate another partial result.\n",
    "\n",
    "- Repeat the process until the iterable is exhausted and then return a single cumulative value.\n",
    "\n",
    "\n",
    "In Python 3.x, if you need to use reduce(), then you first have to import the function into your current scope using an import statement in one of the following ways:\n",
    "\n",
    "- import functools and then use fully-qualified names like functools.reduce().\n",
    "\n",
    "- from functools import reduce and then call reduce() directly.\n",
    "\n",
    "##### reduce() syntax\n",
    "\n",
    "functools.reduce(function, iterable[, initializer])"
   ]
  },
  {
   "cell_type": "code",
   "execution_count": 14,
   "id": "ecd32c8e",
   "metadata": {},
   "outputs": [],
   "source": [
    "#Example \n",
    "\n",
    "# To understand how reduce() works, we’re going to write a function that computes the sum of two numbers and \n",
    "# prints the equivalent math operation to the screen. \n",
    "# Here’s the code:\n",
    "    \n",
    "def my_add(a, b):\n",
    "    result = a + b\n",
    "    print(f\"{a} + {b} = {result}\")\n",
    "    return result"
   ]
  },
  {
   "cell_type": "code",
   "execution_count": 15,
   "id": "227295f0",
   "metadata": {},
   "outputs": [
    {
     "name": "stdout",
     "output_type": "stream",
     "text": [
      "5 + 5 = 10\n"
     ]
    },
    {
     "data": {
      "text/plain": [
       "10"
      ]
     },
     "execution_count": 15,
     "metadata": {},
     "output_type": "execute_result"
    }
   ],
   "source": [
    "# This function calculates the sum of a and b, prints a message with the operation using an f-string, \n",
    "# and returns the result of the computation. Here’s how it works:\n",
    "\n",
    "my_add(5, 5)"
   ]
  },
  {
   "cell_type": "code",
   "execution_count": 16,
   "id": "a40eb5b1",
   "metadata": {},
   "outputs": [
    {
     "name": "stdout",
     "output_type": "stream",
     "text": [
      "0 + 1 = 1\n",
      "1 + 2 = 3\n",
      "3 + 3 = 6\n",
      "6 + 4 = 10\n"
     ]
    },
    {
     "data": {
      "text/plain": [
       "10"
      ]
     },
     "execution_count": 16,
     "metadata": {},
     "output_type": "execute_result"
    }
   ],
   "source": [
    "#my_add() is a two-argument function, so you can pass it to reduce() \n",
    "# along with an iterable to compute the cumulated sum of the items in the iterable. \n",
    "# Check out the following code that uses a list of numbers:\n",
    "\n",
    "from functools import reduce\n",
    "\n",
    "numbers = [0, 1, 2, 3, 4]\n",
    "\n",
    "reduce(my_add, numbers)"
   ]
  },
  {
   "cell_type": "markdown",
   "id": "ba810875",
   "metadata": {},
   "source": [
    "### 4. What are function annotations, and how are they used?"
   ]
  },
  {
   "cell_type": "markdown",
   "id": "8e5aefc3",
   "metadata": {},
   "source": [
    "##### ANSWER:  "
   ]
  },
  {
   "cell_type": "markdown",
   "id": "a365c489",
   "metadata": {},
   "source": [
    "Function annotations are arbitrary python expressions that are associated with various part of functions. These expressions are evaluated at compile time and have no life in python’s runtime environment. Python does not attach any meaning to these annotations. They take life when interpreted by third party libraries."
   ]
  },
  {
   "cell_type": "markdown",
   "id": "c21c0fde",
   "metadata": {},
   "source": [
    "##### Syntax of function annotations:"
   ]
  },
  {
   "cell_type": "markdown",
   "id": "bec3c6e4",
   "metadata": {},
   "source": [
    "- Annotations for simple parameters:\n",
    "\n",
    "    \n",
    "def foo(x: expression, y: expression = 20):"
   ]
  },
  {
   "cell_type": "markdown",
   "id": "c56079b5",
   "metadata": {},
   "source": [
    "- Annotations for excess parameters:\n",
    "\n",
    "    \n",
    "def foo(**args: expression, **kwargs: expression):"
   ]
  },
  {
   "cell_type": "markdown",
   "id": "95399f6a",
   "metadata": {},
   "source": [
    "- Annotations for nested parameters: \n",
    "\n",
    "    \n",
    "def foo(x1, y1: expression), (x2: expression, y2: expression)=(None, None)):"
   ]
  },
  {
   "cell_type": "markdown",
   "id": "cd05e367",
   "metadata": {},
   "source": [
    "- Annotations for return type:\n",
    "\n",
    "\n",
    "def foobar(a: expression)->expression:"
   ]
  },
  {
   "cell_type": "markdown",
   "id": "2acae264",
   "metadata": {},
   "source": [
    "##### Accessing Function Annotations"
   ]
  },
  {
   "cell_type": "code",
   "execution_count": 2,
   "id": "859d6a28",
   "metadata": {},
   "outputs": [
    {
     "data": {
      "text/plain": [
       "{'x': 'annotating x', 'y': 'annotating y', 'z': int, 'return': float}"
      ]
     },
     "execution_count": 2,
     "metadata": {},
     "output_type": "execute_result"
    }
   ],
   "source": [
    "#Using ‘__annotations__’ : \n",
    "    \n",
    "def func(x:'annotating x', y: 'annotating y', z: int) -> float: print(x + y + z)\n",
    "func.__annotations__"
   ]
  },
  {
   "cell_type": "code",
   "execution_count": 4,
   "id": "a0ba827e",
   "metadata": {},
   "outputs": [
    {
     "data": {
      "text/plain": [
       "{'a': 'python', 'b': {'category: language'}, 'return': 'yep'}"
      ]
     },
     "execution_count": 4,
     "metadata": {},
     "output_type": "execute_result"
    }
   ],
   "source": [
    "def func(a: 'python', b: {'category: ' 'language'}) -> 'yep':\n",
    "    pass\n",
    "func.__annotations__"
   ]
  },
  {
   "cell_type": "markdown",
   "id": "b8ed1acd",
   "metadata": {},
   "source": [
    "### 5. What are recursive functions, and how are they used?"
   ]
  },
  {
   "cell_type": "markdown",
   "id": "b5414975",
   "metadata": {},
   "source": [
    "##### ANSWER:  "
   ]
  },
  {
   "cell_type": "markdown",
   "id": "8452f6b4",
   "metadata": {},
   "source": [
    "A recursive function is a function that calls itself during execution. It must have a base condition that stops the recursion or else the function calls itself infinitely."
   ]
  },
  {
   "cell_type": "code",
   "execution_count": null,
   "id": "74ef048c",
   "metadata": {},
   "outputs": [],
   "source": [
    "Syntax:\n",
    "\n",
    "\n",
    "def func(): <--\n",
    "              |\n",
    "              | (recursive call)\n",
    "              |\n",
    "    func() ----"
   ]
  },
  {
   "cell_type": "code",
   "execution_count": 2,
   "id": "ab951094",
   "metadata": {},
   "outputs": [
    {
     "name": "stdout",
     "output_type": "stream",
     "text": [
      "The factorial of 3 is 6\n"
     ]
    }
   ],
   "source": [
    "# Let us take an example to understand how recursive functions are used:\n",
    "\n",
    "def factorial(x):\n",
    "    \"\"\"This is a recursive function\n",
    "    to find the factorial of an integer\"\"\"\n",
    "\n",
    "    if x == 1:\n",
    "        return 1\n",
    "    else:\n",
    "        return (x * factorial(x-1))\n",
    "\n",
    "\n",
    "num = 3\n",
    "print(\"The factorial of\", num, \"is\", factorial(num))"
   ]
  },
  {
   "cell_type": "markdown",
   "id": "999a2cd9",
   "metadata": {},
   "source": [
    "### 6. What are some general design guidelines for coding functions?"
   ]
  },
  {
   "cell_type": "markdown",
   "id": "de5d685b",
   "metadata": {},
   "source": [
    "##### ANSWER:  "
   ]
  },
  {
   "cell_type": "markdown",
   "id": "7a820333",
   "metadata": {},
   "source": [
    "The following are some of the general design guidelines for coding functions:\n",
    "\n",
    "\n",
    "1. Use 4-space indentation and no tabs.\n",
    "\n",
    "\n",
    "2. Use docstrings.\n",
    "\n",
    "\n",
    "3. Wrap lines so that they don’t exceed 79 characters.\n",
    "\n",
    "\n",
    "4. Use of regular and updated comments are valuable to both the coders and users.\n",
    "\n",
    "\n",
    "5. Use of trailing commas.\n",
    "\n",
    "\n",
    "6. Use Python’s default UTF-8 or ASCII encodings and not any fancy encodings.\n",
    "\n",
    "\n",
    "7. Naming Conventions.Here are few other naming conventions: b (single lowercase letter), B (single upper case letter),lowercase, lower_case_with_underscores, UPPERCASE, UPPER_CASE_WITH_UNDERSCORES, CapitalizedWords (or CamelCase), mixedCase (differs from CapitalizedWords by initial lowercase character!), Capitalized_Words_With_Underscores, single_leading_underscore, single_trailing_underscore_, etc.\n",
    "\n",
    "\n",
    "8. Characters that should not be used for identifiers. ‘l’ (lowercase letter el), ‘O’ (uppercase letter oh), or ‘I’ (uppercase letter eye) as single character variable names as these are similar to the numerals one and zero.\n",
    "\n",
    "\n",
    "9. Don’t use non-ASCII characters in identifiers.\n",
    "\n",
    "\n",
    "10. Name your classes and functions consistently. \n",
    "\n",
    "\n",
    "11. While naming of function of methods always use self for the first argument."
   ]
  },
  {
   "cell_type": "markdown",
   "id": "346bce19",
   "metadata": {},
   "source": [
    "### 7. Name three or more ways that functions can communicate results to a caller."
   ]
  },
  {
   "cell_type": "markdown",
   "id": "261f7a4e",
   "metadata": {},
   "source": [
    "##### ANSWER:  "
   ]
  },
  {
   "cell_type": "markdown",
   "id": "fbd904cb",
   "metadata": {},
   "source": [
    "The following are ways in which a function can communicate results to a caller:\n",
    "\n",
    "    \n",
    "    \n",
    "- Function can return single value.\n",
    "\n",
    "\n",
    "- It can return multiple values, tuple.\n",
    "\n",
    "\n",
    "- It can return list,dictionary.\n",
    "\n",
    "\n",
    "- It can return function object.\n",
    "\n",
    "\n",
    "- It can return class object."
   ]
  }
 ],
 "metadata": {
  "kernelspec": {
   "display_name": "Python 3 (ipykernel)",
   "language": "python",
   "name": "python3"
  },
  "language_info": {
   "codemirror_mode": {
    "name": "ipython",
    "version": 3
   },
   "file_extension": ".py",
   "mimetype": "text/x-python",
   "name": "python",
   "nbconvert_exporter": "python",
   "pygments_lexer": "ipython3",
   "version": "3.9.7"
  }
 },
 "nbformat": 4,
 "nbformat_minor": 5
}
