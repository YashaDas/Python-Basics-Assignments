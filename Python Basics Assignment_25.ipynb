{
 "cells": [
  {
   "cell_type": "markdown",
   "id": "364ec023",
   "metadata": {},
   "source": [
    "# Python Basics Assignment_25"
   ]
  },
  {
   "cell_type": "markdown",
   "id": "b32ad106",
   "metadata": {},
   "source": [
    "### 1. What is the difference between enclosing a list comprehension in square brackets and parentheses?"
   ]
  },
  {
   "cell_type": "markdown",
   "id": "44ccc616",
   "metadata": {},
   "source": [
    "##### ANSWER: "
   ]
  },
  {
   "cell_type": "markdown",
   "id": "21b23607",
   "metadata": {},
   "source": [
    "The difference between enclosing a list comprehension in square brackets and parentheses is that:\n",
    "\n",
    "\n",
    "- A list comprehension enclosed in square brackets produces list.\n",
    "\n",
    "\n",
    "- A list comprehension enclosed in parentheses produces generators. "
   ]
  },
  {
   "cell_type": "code",
   "execution_count": 1,
   "id": "d6c2ab31",
   "metadata": {},
   "outputs": [
    {
     "data": {
      "text/plain": [
       "[0, 1, 2, 3, 4, 5, 6, 7, 8, 9]"
      ]
     },
     "execution_count": 1,
     "metadata": {},
     "output_type": "execute_result"
    }
   ],
   "source": [
    "# Example of list comprehension enclosed in square brackets\n",
    "\n",
    "l = [i for i in range(10)]\n",
    "l"
   ]
  },
  {
   "cell_type": "code",
   "execution_count": 5,
   "id": "e26918f4",
   "metadata": {},
   "outputs": [
    {
     "data": {
      "text/plain": [
       "<generator object <genexpr> at 0x000001A7933EE890>"
      ]
     },
     "execution_count": 5,
     "metadata": {},
     "output_type": "execute_result"
    }
   ],
   "source": [
    "# Example of list comprehension enclosed in parentheses\n",
    "\n",
    "# In list comprehensions, the below expression look likes it might create a tuple which is (1,2,3,4,....), \n",
    "#but it is actually creates a generator expression - \n",
    "# this expression is a one time only iterator which will yield the values 1, 2, 3, 4.... in that order\n",
    "\n",
    "l1 = (i for i in range(10))\n",
    "l1"
   ]
  },
  {
   "cell_type": "code",
   "execution_count": 6,
   "id": "f0733724",
   "metadata": {},
   "outputs": [
    {
     "data": {
      "text/plain": [
       "[0, 1, 2, 3, 4, 5, 6, 7, 8, 9]"
      ]
     },
     "execution_count": 6,
     "metadata": {},
     "output_type": "execute_result"
    }
   ],
   "source": [
    "list(l1)"
   ]
  },
  {
   "cell_type": "markdown",
   "id": "48c298cc",
   "metadata": {},
   "source": [
    "### 2. What is the relationship between generators and iterators?"
   ]
  },
  {
   "cell_type": "markdown",
   "id": "b006e779",
   "metadata": {},
   "source": [
    "##### ANSWER:  "
   ]
  },
  {
   "cell_type": "markdown",
   "id": "43096dee",
   "metadata": {},
   "source": [
    "#### Generators\n",
    "\n",
    "\n",
    "- Generators are the functions that return the traversal object and used to create iterators. It traverses the entire items at once. The generator can also be an expression in which syntax is similar to the list comprehension.\n",
    "\n",
    "\n",
    "\n",
    "- It is quite simple to create a generator. It is similar to the normal function defined by the def keyword and uses a yield keyword instead of return. Or we can say that if the body of any function contains a yield statement, it automatically becomes a generator function.\n",
    "\n",
    "\n",
    "\n",
    "- The yield statement is responsible for controlling the flow of the generator function. It pauses the function execution by saving all states and yielded to the caller. Later it resumes execution when a successive function is called. We can use the multiple yield statement in the generator function."
   ]
  },
  {
   "cell_type": "code",
   "execution_count": 1,
   "id": "d041b156",
   "metadata": {},
   "outputs": [],
   "source": [
    "# For example:\n",
    "\n",
    "def sq(n):\n",
    "    for i in range(1, n+1):\n",
    "        yield i*i"
   ]
  },
  {
   "cell_type": "code",
   "execution_count": 2,
   "id": "4ea6095c",
   "metadata": {},
   "outputs": [
    {
     "data": {
      "text/plain": [
       "<generator object sq at 0x000002190525E510>"
      ]
     },
     "execution_count": 2,
     "metadata": {},
     "output_type": "execute_result"
    }
   ],
   "source": [
    "sq(6)"
   ]
  },
  {
   "cell_type": "code",
   "execution_count": 3,
   "id": "af08f8d9",
   "metadata": {},
   "outputs": [
    {
     "data": {
      "text/plain": [
       "<generator object sq at 0x000002190525E660>"
      ]
     },
     "execution_count": 3,
     "metadata": {},
     "output_type": "execute_result"
    }
   ],
   "source": [
    "lst = sq(6)\n",
    "lst"
   ]
  },
  {
   "cell_type": "code",
   "execution_count": 4,
   "id": "012628b0",
   "metadata": {},
   "outputs": [
    {
     "name": "stdout",
     "output_type": "stream",
     "text": [
      "1\n",
      "4\n",
      "9\n",
      "16\n"
     ]
    }
   ],
   "source": [
    "print(next(lst))\n",
    "print(next(lst))\n",
    "print(next(lst))\n",
    "print(next(lst))"
   ]
  },
  {
   "cell_type": "markdown",
   "id": "2924eab4",
   "metadata": {},
   "source": [
    "#### Iterators\n",
    "\n",
    "\n",
    "- An iterator is an object that contains a countable number of values.An iterator is an object that can be iterated upon, meaning that you can traverse through all the values.\n",
    "\n",
    "\n",
    "- Technically, in Python, an iterator is an object which implements the iterator protocol, which consist of the methods __iter__() and __next__() method to keep track of internal states.\n",
    "\n",
    "\n",
    "\n",
    "- The __iter__() method acts similar, you can do operations (initializing etc.), but must always return the iterator object itself.\n",
    "\n",
    "\n",
    "\n",
    "- The __next__() method also allows you to do operations, and must return the next item in the sequence."
   ]
  },
  {
   "cell_type": "code",
   "execution_count": 5,
   "id": "8776ddcd",
   "metadata": {},
   "outputs": [
    {
     "name": "stdout",
     "output_type": "stream",
     "text": [
      "Dog\n",
      "CAt\n",
      "Bear\n"
     ]
    }
   ],
   "source": [
    "# For example\n",
    "\n",
    "iter_list = iter(['Dog', 'CAt', 'Bear'])\n",
    "print(next(iter_list))\n",
    "print(next(iter_list))\n",
    "print(next(iter_list))"
   ]
  },
  {
   "cell_type": "markdown",
   "id": "a7db9268",
   "metadata": {},
   "source": [
    "### 3. What are the signs that a function is a generator function?"
   ]
  },
  {
   "cell_type": "markdown",
   "id": "eaf666b1",
   "metadata": {},
   "source": [
    "##### ANSWER:  "
   ]
  },
  {
   "cell_type": "markdown",
   "id": "8aa28cfc",
   "metadata": {},
   "source": [
    "Any function that contains a yield keyword is termed a generator function. Hence, yield is what makes a generator. A generator function contains a yield statement inside their body to generate the series of values one by one in a loop. The yield keyword returns the values and continues executing the series one by one. It also does not exit from the function."
   ]
  },
  {
   "cell_type": "markdown",
   "id": "936082eb",
   "metadata": {},
   "source": [
    "### 4. What is the purpose of a yield statement?"
   ]
  },
  {
   "cell_type": "markdown",
   "id": "78ce24b1",
   "metadata": {},
   "source": [
    "##### ANSWER:  "
   ]
  },
  {
   "cell_type": "markdown",
   "id": "2f31f637",
   "metadata": {},
   "source": [
    "The purpose of a yield statement is that it is used to return from a function without destroying the states of its local variable and when the function is called, the execution starts from the last yield statement. Any function that contains a yield keyword is termed a generator. Hence, yield is what makes a generator. A generator function contains a yield statement inside their body to generate the series of values one by one in a loop. The yield keyword returns the values and continues executing the series one by one. It also does not exit from the function."
   ]
  },
  {
   "cell_type": "markdown",
   "id": "53f21511",
   "metadata": {},
   "source": [
    "### 5. What is the relationship between map calls and list comprehensions? Make a comparison and contrast between the two."
   ]
  },
  {
   "cell_type": "markdown",
   "id": "28d3ef48",
   "metadata": {},
   "source": [
    "##### ANSWER: "
   ]
  },
  {
   "cell_type": "markdown",
   "id": "74722860",
   "metadata": {},
   "source": [
    "#### map calls\n",
    "\n",
    "\n",
    "- The map() function applies a given function to each item of an iterable (list, tuple etc.) and returns an iterator.\n",
    "\n",
    "\n",
    "##### map() Syntax\n",
    "\n",
    "\n",
    "- Its syntax is:\n",
    "\n",
    "  map(function, iterable, ...)\n",
    "  \n",
    "  \n",
    "##### map() Parameter\n",
    "\n",
    "\n",
    "  The map() function takes two parameters:\n",
    "  \n",
    "\n",
    "- function - a function that perform some action to each element of an iterable.\n",
    "\n",
    "\n",
    "- iterable - an iterable like sets, lists, tuples, etc.\n",
    "\n",
    "\n",
    "  You can pass more than one iterable to the map() function.\n",
    "  \n",
    "\n",
    "##### map() Return Value\n",
    "\n",
    "\n",
    "  The map() function returns an object of map class. The returned value can be passed to functions like\n",
    "\n",
    "\n",
    "- list() - to convert to list\n",
    "\n",
    "\n",
    "- set() - to convert to a set, and so on."
   ]
  },
  {
   "cell_type": "code",
   "execution_count": 6,
   "id": "291c6c3a",
   "metadata": {},
   "outputs": [
    {
     "name": "stdout",
     "output_type": "stream",
     "text": [
      "[5, 6, 6]\n"
     ]
    }
   ],
   "source": [
    "# Example\n",
    "\n",
    "# Calculate the length of each word in the tuple:\n",
    "\n",
    "def myfunc(n):\n",
    "    return len(n)\n",
    "\n",
    "x = map(myfunc, ('apple', 'banana', 'cherry'))\n",
    "\n",
    "#convert the map into a list, for readability:\n",
    "\n",
    "print(list(x))"
   ]
  },
  {
   "cell_type": "markdown",
   "id": "1b2dc108",
   "metadata": {},
   "source": [
    "#### List Comprehension\n",
    "\n",
    "\n",
    "- List comprehension offers a shorter syntax when you want to create a new list based on the values of an existing list.\n",
    "\n",
    "\n",
    "##### The Syntax\n",
    "\n",
    "\n",
    "newlist = [expression for item in iterable if condition == True]\n",
    "\n",
    "\n",
    "The return value is a new list, leaving the old list unchanged."
   ]
  },
  {
   "cell_type": "code",
   "execution_count": 7,
   "id": "daa154b5",
   "metadata": {},
   "outputs": [
    {
     "name": "stdout",
     "output_type": "stream",
     "text": [
      "['apple', 'banana', 'mango']\n"
     ]
    }
   ],
   "source": [
    "# Example\n",
    "\n",
    "# Based on a list of fruits, you want a new list, containing only the fruits with the letter \"a\" in the name.\n",
    "\n",
    "# With list comprehension you can do all that with only one line of code:\n",
    "\n",
    "fruits = [\"apple\", \"banana\", \"cherry\", \"kiwi\", \"mango\"]\n",
    "\n",
    "newlist = [x for x in fruits if \"a\" in x]\n",
    "\n",
    "print(newlist)"
   ]
  },
  {
   "cell_type": "markdown",
   "id": "ce2e69fb",
   "metadata": {},
   "source": [
    "#### Comparision :\n",
    "\n",
    "\n",
    "- List comprehension is more concise and easier to read as compared to map calls.\n",
    "\n",
    "\n",
    "- List comprehension allows filtering. In map calls, we have no such facility. For example, to print all even numbers in range of 100, we can write [n for n in range(100) if n%2 == 0]. There is no alternate for it in map calls.\n",
    "\n",
    "\n",
    "- List comprehension are used when a list of results is required, whereas map calls only returns a map object and does not return any list.\n",
    "\n",
    "\n",
    "- List comprehension is faster than map calls when we need to evaluate expressions that are too long or complicated to express whereas map call is faster in case of calling an already defined function (as no lambda is required)."
   ]
  }
 ],
 "metadata": {
  "kernelspec": {
   "display_name": "Python 3 (ipykernel)",
   "language": "python",
   "name": "python3"
  },
  "language_info": {
   "codemirror_mode": {
    "name": "ipython",
    "version": 3
   },
   "file_extension": ".py",
   "mimetype": "text/x-python",
   "name": "python",
   "nbconvert_exporter": "python",
   "pygments_lexer": "ipython3",
   "version": "3.9.7"
  }
 },
 "nbformat": 4,
 "nbformat_minor": 5
}
