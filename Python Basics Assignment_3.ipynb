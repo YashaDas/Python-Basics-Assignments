{
 "cells": [
  {
   "cell_type": "markdown",
   "id": "2ec63304",
   "metadata": {},
   "source": [
    "# Python Basics Assignment_3"
   ]
  },
  {
   "cell_type": "markdown",
   "id": "2647a7ef",
   "metadata": {},
   "source": [
    "### 1. Why are functions advantageous to have in your programs?"
   ]
  },
  {
   "cell_type": "markdown",
   "id": "41d3b539",
   "metadata": {},
   "source": [
    "##### ANSWER: "
   ]
  },
  {
   "cell_type": "markdown",
   "id": "75d16f4a",
   "metadata": {},
   "source": [
    "The following are the reasons as to why functions are advantageous to have in your programs:\n",
    "\n",
    "\n",
    "- Reduces the need to duplicate code.\n",
    "\n",
    "\n",
    "- Makes programmes shorter.\n",
    "\n",
    "\n",
    "- Makes programmes easier to read.\n",
    "\n",
    "\n",
    "- Makes programmes easier to update."
   ]
  },
  {
   "cell_type": "markdown",
   "id": "ca7437c7",
   "metadata": {},
   "source": [
    "### 2. When does the code in a function run: when it's specified or when it's called?"
   ]
  },
  {
   "cell_type": "markdown",
   "id": "82fc821d",
   "metadata": {},
   "source": [
    "##### ANSWER: "
   ]
  },
  {
   "cell_type": "markdown",
   "id": "6261f2aa",
   "metadata": {},
   "source": [
    "The code in a function runs when it's called."
   ]
  },
  {
   "cell_type": "markdown",
   "id": "eb796fde",
   "metadata": {},
   "source": [
    "### 3. What statement creates a function?"
   ]
  },
  {
   "cell_type": "markdown",
   "id": "3d060e75",
   "metadata": {},
   "source": [
    "##### ANSWER:  "
   ]
  },
  {
   "cell_type": "markdown",
   "id": "372bdc87",
   "metadata": {},
   "source": [
    "The def statement creates a function."
   ]
  },
  {
   "cell_type": "markdown",
   "id": "14b33b1b",
   "metadata": {},
   "source": [
    "### 4. What is the difference between a function and a function call?"
   ]
  },
  {
   "cell_type": "markdown",
   "id": "7ff418bb",
   "metadata": {},
   "source": [
    "##### ANSWER:  "
   ]
  },
  {
   "cell_type": "markdown",
   "id": "8ee58238",
   "metadata": {},
   "source": [
    "The following is the difference between a function and a function call:\n",
    "\n",
    "- A function consists of the def statement and the code in its def clause.\n",
    "\n",
    "- A function call is what moves the program execution into the function, and the function call evaluates to the function’s return value."
   ]
  },
  {
   "cell_type": "markdown",
   "id": "74628d7b",
   "metadata": {},
   "source": [
    "### 5. How many global scopes are there in a Python program? How many local scopes?"
   ]
  },
  {
   "cell_type": "markdown",
   "id": "eb5a78cf",
   "metadata": {},
   "source": [
    "##### ANSWER:  "
   ]
  },
  {
   "cell_type": "markdown",
   "id": "b3c73488",
   "metadata": {},
   "source": [
    "In a Python program, there is one global scope and multiple local scopes as a separate scope is created whenever a function is called."
   ]
  },
  {
   "cell_type": "markdown",
   "id": "4b9021ed",
   "metadata": {},
   "source": [
    "### 6. What happens to variables in a local scope when the function call returns?"
   ]
  },
  {
   "cell_type": "markdown",
   "id": "876f9e3f",
   "metadata": {},
   "source": [
    "##### ANSWER:  "
   ]
  },
  {
   "cell_type": "markdown",
   "id": "bbc33b89",
   "metadata": {},
   "source": [
    "When the function call returns, the local scope is destroyed, and all the variables in it are forgotten."
   ]
  },
  {
   "cell_type": "markdown",
   "id": "79026ee4",
   "metadata": {},
   "source": [
    "### 7. What is the concept of a return value? Is it possible to have a return value in an expression?"
   ]
  },
  {
   "cell_type": "markdown",
   "id": "81431851",
   "metadata": {},
   "source": [
    "##### ANSWER:  "
   ]
  },
  {
   "cell_type": "markdown",
   "id": "f5f5e5bf",
   "metadata": {},
   "source": [
    "A return value is the value that a function call evaluates to. Yes, it is possible to have a return value in an expression."
   ]
  },
  {
   "cell_type": "markdown",
   "id": "92f02c3f",
   "metadata": {},
   "source": [
    "### 8. If a function does not have a return statement, what is the return value of a call to that function?"
   ]
  },
  {
   "cell_type": "markdown",
   "id": "1bb7fd85",
   "metadata": {},
   "source": [
    "##### ANSWER:  "
   ]
  },
  {
   "cell_type": "markdown",
   "id": "d4084f5f",
   "metadata": {},
   "source": [
    "The return value of a call to a function that does not have a return statement is None."
   ]
  },
  {
   "cell_type": "markdown",
   "id": "39c13ac3",
   "metadata": {},
   "source": [
    "### 9. How do you make a function variable refer to the global variable?"
   ]
  },
  {
   "cell_type": "markdown",
   "id": "21676183",
   "metadata": {},
   "source": [
    "##### ANSWER:  "
   ]
  },
  {
   "cell_type": "markdown",
   "id": "9159d13b",
   "metadata": {},
   "source": [
    "You can make a function variable refer to the global variable by using the global statement."
   ]
  },
  {
   "cell_type": "markdown",
   "id": "06ea4eb5",
   "metadata": {},
   "source": [
    "### 10. What is the data type of None?"
   ]
  },
  {
   "cell_type": "markdown",
   "id": "d58df74c",
   "metadata": {},
   "source": [
    "##### ANSWER:  "
   ]
  },
  {
   "cell_type": "markdown",
   "id": "80a43771",
   "metadata": {},
   "source": [
    "The data type None is NoneType."
   ]
  },
  {
   "cell_type": "markdown",
   "id": "94bc2538",
   "metadata": {},
   "source": [
    "### 11. What does the sentence import areallyourpetsnamederic do?"
   ]
  },
  {
   "cell_type": "markdown",
   "id": "77ac7b29",
   "metadata": {},
   "source": [
    "##### ANSWER:  "
   ]
  },
  {
   "cell_type": "markdown",
   "id": "403f4a2d",
   "metadata": {},
   "source": [
    "The sentence import areallyourpetsnamederic imports a module named areallyourpetsnamederic."
   ]
  },
  {
   "cell_type": "markdown",
   "id": "7f7f6987",
   "metadata": {},
   "source": [
    "### 12. If you had a bacon() feature in a spam module, what would you call it after importing spam?"
   ]
  },
  {
   "cell_type": "markdown",
   "id": "ed8e52c0",
   "metadata": {},
   "source": [
    "##### ANSWER:  "
   ]
  },
  {
   "cell_type": "markdown",
   "id": "5a1a7a6f",
   "metadata": {},
   "source": [
    "This feature can be called with spam.bacon()"
   ]
  },
  {
   "cell_type": "markdown",
   "id": "291d532f",
   "metadata": {},
   "source": [
    "### 13. What can you do to save a programme from crashing if it encounters an error?"
   ]
  },
  {
   "cell_type": "markdown",
   "id": "6ad981dc",
   "metadata": {},
   "source": [
    "##### ANSWER:  "
   ]
  },
  {
   "cell_type": "markdown",
   "id": "b7273934",
   "metadata": {},
   "source": [
    "To save a programme from crashing if it encounters an error, you can place the line of code that might cause an error in a try clause."
   ]
  },
  {
   "cell_type": "markdown",
   "id": "727ecb35",
   "metadata": {},
   "source": [
    "### 14. What is the purpose of the try clause? What is the purpose of the except clause?"
   ]
  },
  {
   "cell_type": "markdown",
   "id": "7a3542dd",
   "metadata": {},
   "source": [
    "##### ANSWER:  "
   ]
  },
  {
   "cell_type": "markdown",
   "id": "1540d778",
   "metadata": {},
   "source": [
    "The purpose of the try clause is:\n",
    "\n",
    "- The code that could potentially cause an error goes in the try clause.\n",
    "\n",
    "\n",
    "The purpose of the except clause is:\n",
    "\n",
    "- The code that executes if an error happens goes in the except clause."
   ]
  }
 ],
 "metadata": {
  "kernelspec": {
   "display_name": "Python 3 (ipykernel)",
   "language": "python",
   "name": "python3"
  },
  "language_info": {
   "codemirror_mode": {
    "name": "ipython",
    "version": 3
   },
   "file_extension": ".py",
   "mimetype": "text/x-python",
   "name": "python",
   "nbconvert_exporter": "python",
   "pygments_lexer": "ipython3",
   "version": "3.9.7"
  }
 },
 "nbformat": 4,
 "nbformat_minor": 5
}
