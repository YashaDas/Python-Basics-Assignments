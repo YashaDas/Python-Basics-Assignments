{
 "cells": [
  {
   "cell_type": "markdown",
   "id": "301742b4",
   "metadata": {},
   "source": [
    "# Python Basics Assignment_6"
   ]
  },
  {
   "cell_type": "markdown",
   "id": "299edb5c",
   "metadata": {},
   "source": [
    "### 1. What are escape characters, and how do you use them?"
   ]
  },
  {
   "cell_type": "markdown",
   "id": "9f10fbea",
   "metadata": {},
   "source": [
    "##### ANSWER: "
   ]
  },
  {
   "cell_type": "markdown",
   "id": "42e99eb0",
   "metadata": {},
   "source": [
    "Escape Characters: Escape characters represent characters in string values that would otherwise be difficult or impossible to type into code.\n",
    "\n",
    "Escape characters can be used in the following manner:"
   ]
  },
  {
   "cell_type": "code",
   "execution_count": 1,
   "id": "fc2df5a1",
   "metadata": {},
   "outputs": [
    {
     "ename": "SyntaxError",
     "evalue": "invalid syntax (Temp/ipykernel_8480/145527605.py, line 3)",
     "output_type": "error",
     "traceback": [
      "\u001b[1;36m  File \u001b[1;32m\"C:\\Users\\COMPUT~1\\AppData\\Local\\Temp/ipykernel_8480/145527605.py\"\u001b[1;36m, line \u001b[1;32m3\u001b[0m\n\u001b[1;33m    a = \"I am a student of \"iNeuron\"\"\u001b[0m\n\u001b[1;37m                            ^\u001b[0m\n\u001b[1;31mSyntaxError\u001b[0m\u001b[1;31m:\u001b[0m invalid syntax\n"
     ]
    }
   ],
   "source": [
    "#For example:\n",
    "\n",
    "a = \"I am a student of \"iNeuron\"\" "
   ]
  },
  {
   "cell_type": "code",
   "execution_count": 2,
   "id": "7334180a",
   "metadata": {},
   "outputs": [
    {
     "name": "stdout",
     "output_type": "stream",
     "text": [
      "I am a student of \"iNeuron\"\n"
     ]
    }
   ],
   "source": [
    "#After using the escape character '\\':\n",
    "\n",
    "a = \"I am a student of \\\"iNeuron\\\"\"\n",
    "print(a)"
   ]
  },
  {
   "cell_type": "markdown",
   "id": "43a526ab",
   "metadata": {},
   "source": [
    "### 2. What do the escape characters n and t stand for?"
   ]
  },
  {
   "cell_type": "markdown",
   "id": "0dcc6e12",
   "metadata": {},
   "source": [
    "##### ANSWER: "
   ]
  },
  {
   "cell_type": "markdown",
   "id": "58956bfd",
   "metadata": {},
   "source": [
    "- \\n - is a newline.\n",
    "\n",
    "\n",
    "- \\t - is a tab."
   ]
  },
  {
   "cell_type": "code",
   "execution_count": 3,
   "id": "8b575870",
   "metadata": {},
   "outputs": [
    {
     "name": "stdout",
     "output_type": "stream",
     "text": [
      "Hello\n",
      "World!\n"
     ]
    }
   ],
   "source": [
    "# An example of \\n:\n",
    "\n",
    "b = \"Hello\\nWorld!\"\n",
    "print(b)"
   ]
  },
  {
   "cell_type": "code",
   "execution_count": 4,
   "id": "d9e572fa",
   "metadata": {},
   "outputs": [
    {
     "name": "stdout",
     "output_type": "stream",
     "text": [
      "Hello\tWorld!\n"
     ]
    }
   ],
   "source": [
    "# An example of \\t:\n",
    "\n",
    "c = \"Hello\\tWorld!\"\n",
    "print(c)"
   ]
  },
  {
   "cell_type": "markdown",
   "id": "474cfcda",
   "metadata": {},
   "source": [
    "### 3. What is the way to include backslash characters in a string?"
   ]
  },
  {
   "cell_type": "markdown",
   "id": "12b937a7",
   "metadata": {},
   "source": [
    "##### ANSWER: "
   ]
  },
  {
   "cell_type": "markdown",
   "id": "ca2ae2b8",
   "metadata": {},
   "source": [
    "To include backslash characters in a string, is to use an escape character. An escape character is a backslash \\ followed by the character you want to insert."
   ]
  },
  {
   "cell_type": "code",
   "execution_count": 5,
   "id": "08c8419e",
   "metadata": {},
   "outputs": [
    {
     "name": "stdout",
     "output_type": "stream",
     "text": [
      "This will insert one \\ (backslash).\n"
     ]
    }
   ],
   "source": [
    "#For example:\n",
    "\n",
    "d = \"This will insert one \\\\ (backslash).\"\n",
    "print(d) "
   ]
  },
  {
   "cell_type": "markdown",
   "id": "767f4a12",
   "metadata": {},
   "source": [
    "### 4. The string \"Howl's Moving Castle\" is a correct value. Why isn't the single quote character in the word Howl's not escaped a problem?"
   ]
  },
  {
   "cell_type": "markdown",
   "id": "67d21fc5",
   "metadata": {},
   "source": [
    "##### ANSWER:"
   ]
  },
  {
   "cell_type": "markdown",
   "id": "53791279",
   "metadata": {},
   "source": [
    "The single quote character in the word Howl's not escaped a problem as double quotes are used to mark the beginning and end of the string."
   ]
  },
  {
   "cell_type": "code",
   "execution_count": 6,
   "id": "dbc6b4d2",
   "metadata": {},
   "outputs": [
    {
     "name": "stdout",
     "output_type": "stream",
     "text": [
      "Howl's Moving Castle\n"
     ]
    }
   ],
   "source": [
    "e = \"Howl's Moving Castle\"\n",
    "print(e)"
   ]
  },
  {
   "cell_type": "markdown",
   "id": "3401ab34",
   "metadata": {},
   "source": [
    "### 5. How do you write a string of newlines if you don't want to use the n character?"
   ]
  },
  {
   "cell_type": "markdown",
   "id": "22966839",
   "metadata": {},
   "source": [
    "##### ANSWER: "
   ]
  },
  {
   "cell_type": "markdown",
   "id": "40611e59",
   "metadata": {},
   "source": [
    "To write a string of newlines if you don't want to use the n character, you can do so by using multiline strings. You can assign a multiline string to a variable by using three single or double quotes."
   ]
  },
  {
   "cell_type": "code",
   "execution_count": 7,
   "id": "6d1c2437",
   "metadata": {},
   "outputs": [
    {
     "name": "stdout",
     "output_type": "stream",
     "text": [
      "abcdefagijklmnopqrstqwerty,\n",
      "fiogjhtriojrpjrpojeojnaalqw gsPEKOE,\n",
      "F GNHHJIdsgdhrtjh o ekt wn pepyoyjjrto\n"
     ]
    }
   ],
   "source": [
    "#For Example:\n",
    "\n",
    "f = '''abcdefagijklmnopqrstqwerty,\n",
    "fiogjhtriojrpjrpojeojnaalqw gsPEKOE,\n",
    "F GNHHJIdsgdhrtjh o ekt wn pepyoyjjrto'''\n",
    "print(f)"
   ]
  },
  {
   "cell_type": "code",
   "execution_count": 8,
   "id": "7d19f30f",
   "metadata": {},
   "outputs": [
    {
     "name": "stdout",
     "output_type": "stream",
     "text": [
      "geiohe goi ewnworrn wnw ow,\n",
      "in wio gerneinwqqswxkcwamgelrghkr or,\n",
      "qifwe noigen eoihnth eo hnhoprh rpho\n"
     ]
    }
   ],
   "source": [
    "g = \"\"\"geiohe goi ewnworrn wnw ow,\n",
    "in wio gerneinwqqswxkcwamgelrghkr or,\n",
    "qifwe noigen eoihnth eo hnhoprh rpho\"\"\"\n",
    "print(g)"
   ]
  },
  {
   "cell_type": "markdown",
   "id": "5ce2f89f",
   "metadata": {},
   "source": [
    "##### NOTE: I just pressed random key's for example."
   ]
  },
  {
   "cell_type": "markdown",
   "id": "8cd79f01",
   "metadata": {},
   "source": [
    "### 6. What are the values of the given expressions?\n",
    "\n",
    "'Hello, world!'[1]\n",
    "\n",
    "'Hello, world!'[0:5]\n",
    "\n",
    "'Hello, world!'[:5]\n",
    "\n",
    "'Hello, world!'[3:]\n"
   ]
  },
  {
   "cell_type": "markdown",
   "id": "4de4b026",
   "metadata": {},
   "source": [
    "##### ANSWER: "
   ]
  },
  {
   "cell_type": "markdown",
   "id": "f5a15721",
   "metadata": {},
   "source": [
    "The following are the values of the given expressions:"
   ]
  },
  {
   "cell_type": "code",
   "execution_count": 9,
   "id": "77d03cc3",
   "metadata": {},
   "outputs": [
    {
     "data": {
      "text/plain": [
       "'e'"
      ]
     },
     "execution_count": 9,
     "metadata": {},
     "output_type": "execute_result"
    }
   ],
   "source": [
    "'Hello, world!'[1]"
   ]
  },
  {
   "cell_type": "code",
   "execution_count": 10,
   "id": "31b79bc1",
   "metadata": {},
   "outputs": [
    {
     "data": {
      "text/plain": [
       "'Hello'"
      ]
     },
     "execution_count": 10,
     "metadata": {},
     "output_type": "execute_result"
    }
   ],
   "source": [
    "'Hello, world!'[0:5]"
   ]
  },
  {
   "cell_type": "code",
   "execution_count": 11,
   "id": "1443058f",
   "metadata": {},
   "outputs": [
    {
     "data": {
      "text/plain": [
       "'Hello'"
      ]
     },
     "execution_count": 11,
     "metadata": {},
     "output_type": "execute_result"
    }
   ],
   "source": [
    "'Hello, world!'[:5]"
   ]
  },
  {
   "cell_type": "code",
   "execution_count": 12,
   "id": "898f80bc",
   "metadata": {},
   "outputs": [
    {
     "data": {
      "text/plain": [
       "'lo, world!'"
      ]
     },
     "execution_count": 12,
     "metadata": {},
     "output_type": "execute_result"
    }
   ],
   "source": [
    "'Hello, world!'[3:]"
   ]
  },
  {
   "cell_type": "markdown",
   "id": "b8c5d663",
   "metadata": {},
   "source": [
    "### 7. What are the values of the following expressions?\n",
    "\n",
    "'Hello'.upper()\n",
    "\n",
    "'Hello'.upper().isupper()\n",
    "\n",
    "'Hello'.upper().lower()\n"
   ]
  },
  {
   "cell_type": "markdown",
   "id": "9661902f",
   "metadata": {},
   "source": [
    "##### ANSWER:"
   ]
  },
  {
   "cell_type": "markdown",
   "id": "6163e9e6",
   "metadata": {},
   "source": [
    "The values of the following expressions are:"
   ]
  },
  {
   "cell_type": "code",
   "execution_count": 13,
   "id": "a410afa8",
   "metadata": {},
   "outputs": [
    {
     "data": {
      "text/plain": [
       "'HELLO'"
      ]
     },
     "execution_count": 13,
     "metadata": {},
     "output_type": "execute_result"
    }
   ],
   "source": [
    "'Hello'.upper()"
   ]
  },
  {
   "cell_type": "code",
   "execution_count": 14,
   "id": "09d91447",
   "metadata": {},
   "outputs": [
    {
     "data": {
      "text/plain": [
       "True"
      ]
     },
     "execution_count": 14,
     "metadata": {},
     "output_type": "execute_result"
    }
   ],
   "source": [
    "'Hello'.upper().isupper()"
   ]
  },
  {
   "cell_type": "code",
   "execution_count": 15,
   "id": "9877eb37",
   "metadata": {},
   "outputs": [
    {
     "data": {
      "text/plain": [
       "'hello'"
      ]
     },
     "execution_count": 15,
     "metadata": {},
     "output_type": "execute_result"
    }
   ],
   "source": [
    "'Hello'.upper().lower()"
   ]
  },
  {
   "cell_type": "markdown",
   "id": "e437b728",
   "metadata": {},
   "source": [
    "### 8. What are the values of the following expressions?\n",
    "\n",
    "'Remember, remember, the fifth of July.'.split()\n",
    "\n",
    "'-'.join('There can only one.'.split())\n"
   ]
  },
  {
   "cell_type": "markdown",
   "id": "bd855d17",
   "metadata": {},
   "source": [
    "##### ANSWER: "
   ]
  },
  {
   "cell_type": "markdown",
   "id": "2fa0d50c",
   "metadata": {},
   "source": [
    "The values of the following expressions are:"
   ]
  },
  {
   "cell_type": "code",
   "execution_count": 16,
   "id": "2a89847f",
   "metadata": {},
   "outputs": [
    {
     "data": {
      "text/plain": [
       "['Remember,', 'remember,', 'the', 'fifth', 'of', 'July.']"
      ]
     },
     "execution_count": 16,
     "metadata": {},
     "output_type": "execute_result"
    }
   ],
   "source": [
    "'Remember, remember, the fifth of July.'.split()"
   ]
  },
  {
   "cell_type": "code",
   "execution_count": 17,
   "id": "b73d9df6",
   "metadata": {},
   "outputs": [
    {
     "data": {
      "text/plain": [
       "'There-can-only-one.'"
      ]
     },
     "execution_count": 17,
     "metadata": {},
     "output_type": "execute_result"
    }
   ],
   "source": [
    "'-'.join('There can only one.'.split())"
   ]
  },
  {
   "cell_type": "markdown",
   "id": "3ea2de2c",
   "metadata": {},
   "source": [
    "### 9. What are the methods for right-justifying, left-justifying, and centering a string?"
   ]
  },
  {
   "cell_type": "markdown",
   "id": "b463f468",
   "metadata": {},
   "source": [
    "##### ANSWER: "
   ]
  },
  {
   "cell_type": "markdown",
   "id": "caeb0fb2",
   "metadata": {},
   "source": [
    "The following are the string methods for:-"
   ]
  },
  {
   "cell_type": "markdown",
   "id": "4a56c19f",
   "metadata": {},
   "source": [
    "##### right-justifying : rjust()"
   ]
  },
  {
   "cell_type": "code",
   "execution_count": 18,
   "id": "ff624c3d",
   "metadata": {},
   "outputs": [
    {
     "name": "stdout",
     "output_type": "stream",
     "text": [
      "Hello i am a student\n"
     ]
    }
   ],
   "source": [
    "# For example:\n",
    "\n",
    "h = \"Hello\"\n",
    "i = h.rjust(20)\n",
    "print(h, \"i am a student\")"
   ]
  },
  {
   "cell_type": "markdown",
   "id": "34d1ad97",
   "metadata": {},
   "source": [
    "##### left-justifying : ljust()"
   ]
  },
  {
   "cell_type": "code",
   "execution_count": 19,
   "id": "f8a8e39d",
   "metadata": {},
   "outputs": [
    {
     "name": "stdout",
     "output_type": "stream",
     "text": [
      "I am a student of iNeuron\n"
     ]
    }
   ],
   "source": [
    "j = \"iNeuron\"\n",
    "k = j.ljust(20)\n",
    "print(\"I am a student of\",j)"
   ]
  },
  {
   "cell_type": "markdown",
   "id": "94369f48",
   "metadata": {},
   "source": [
    "##### centering a string - center()"
   ]
  },
  {
   "cell_type": "code",
   "execution_count": 20,
   "id": "c4859c03",
   "metadata": {},
   "outputs": [
    {
     "name": "stdout",
     "output_type": "stream",
     "text": [
      "       Center       \n"
     ]
    }
   ],
   "source": [
    "l = \"Center\"\n",
    "m = l.center(20)\n",
    "print(m)"
   ]
  },
  {
   "cell_type": "markdown",
   "id": "42c9d5c0",
   "metadata": {},
   "source": [
    "### 10. What is the best way to remove whitespace characters from the start or end?"
   ]
  },
  {
   "cell_type": "markdown",
   "id": "bfd52a5b",
   "metadata": {},
   "source": [
    "##### ANSWER:"
   ]
  },
  {
   "cell_type": "markdown",
   "id": "7fe6387e",
   "metadata": {},
   "source": [
    "The best way to remove whitespace characters from the start or end, is to use lstrip() and rstrip() respectively."
   ]
  },
  {
   "cell_type": "markdown",
   "id": "7337319f",
   "metadata": {},
   "source": [
    "##### lstrip()"
   ]
  },
  {
   "cell_type": "code",
   "execution_count": 21,
   "id": "57d7fce6",
   "metadata": {},
   "outputs": [
    {
     "data": {
      "text/plain": [
       "'        i like eating ice cream in summer'"
      ]
     },
     "execution_count": 21,
     "metadata": {},
     "output_type": "execute_result"
    }
   ],
   "source": [
    "# For example:\n",
    "\n",
    "n = \"        i like eating ice cream in summer\"\n",
    "n"
   ]
  },
  {
   "cell_type": "code",
   "execution_count": 22,
   "id": "b7256482",
   "metadata": {},
   "outputs": [
    {
     "data": {
      "text/plain": [
       "'i like eating ice cream in summer'"
      ]
     },
     "execution_count": 22,
     "metadata": {},
     "output_type": "execute_result"
    }
   ],
   "source": [
    "o = n.lstrip()\n",
    "o"
   ]
  },
  {
   "cell_type": "markdown",
   "id": "c7221bb4",
   "metadata": {},
   "source": [
    "##### rstrip()"
   ]
  },
  {
   "cell_type": "code",
   "execution_count": 23,
   "id": "dff22d49",
   "metadata": {},
   "outputs": [
    {
     "data": {
      "text/plain": [
       "'i like riding bicycle           '"
      ]
     },
     "execution_count": 23,
     "metadata": {},
     "output_type": "execute_result"
    }
   ],
   "source": [
    "# For example:\n",
    "\n",
    "p = \"i like riding bicycle           \"\n",
    "p"
   ]
  },
  {
   "cell_type": "code",
   "execution_count": 24,
   "id": "4f5e9825",
   "metadata": {},
   "outputs": [
    {
     "data": {
      "text/plain": [
       "'i like riding bicycle'"
      ]
     },
     "execution_count": 24,
     "metadata": {},
     "output_type": "execute_result"
    }
   ],
   "source": [
    "q = p.rstrip()\n",
    "q"
   ]
  }
 ],
 "metadata": {
  "kernelspec": {
   "display_name": "Python 3 (ipykernel)",
   "language": "python",
   "name": "python3"
  },
  "language_info": {
   "codemirror_mode": {
    "name": "ipython",
    "version": 3
   },
   "file_extension": ".py",
   "mimetype": "text/x-python",
   "name": "python",
   "nbconvert_exporter": "python",
   "pygments_lexer": "ipython3",
   "version": "3.9.7"
  }
 },
 "nbformat": 4,
 "nbformat_minor": 5
}
