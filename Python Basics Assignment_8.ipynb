{
 "cells": [
  {
   "cell_type": "markdown",
   "id": "b0aa996b",
   "metadata": {},
   "source": [
    "# Python Basics Assignment_8"
   ]
  },
  {
   "cell_type": "markdown",
   "id": "c3396576",
   "metadata": {},
   "source": [
    "### 1. Is the Python Standard Library included with PyInputPlus?"
   ]
  },
  {
   "cell_type": "markdown",
   "id": "8c26760e",
   "metadata": {},
   "source": [
    "##### ANSWER: "
   ]
  },
  {
   "cell_type": "markdown",
   "id": "919c3dda",
   "metadata": {},
   "source": [
    "PyInputPlus is not a part of the Python Standard Library, so you must install it separately using Pip.To install PyInputPlus, run pip install pyinputplus from the command line."
   ]
  },
  {
   "cell_type": "markdown",
   "id": "16022f14",
   "metadata": {},
   "source": [
    "### 2. Why is PyInputPlus commonly imported with import pyinputplus as pypi?"
   ]
  },
  {
   "cell_type": "markdown",
   "id": "22f43220",
   "metadata": {},
   "source": [
    "##### ANSWER: "
   ]
  },
  {
   "cell_type": "markdown",
   "id": "dec9d99c",
   "metadata": {},
   "source": [
    "The as pyip code in the import statement saves us from typing pyinputplus each time we want to call a PyInputPlus function. Instead we can use the shorter pyip name."
   ]
  },
  {
   "cell_type": "markdown",
   "id": "698b0e78",
   "metadata": {},
   "source": [
    "### 3. How do you distinguish between inputInt() and inputFloat()?"
   ]
  },
  {
   "cell_type": "markdown",
   "id": "7b376605",
   "metadata": {},
   "source": [
    "##### ANSWER: "
   ]
  },
  {
   "cell_type": "markdown",
   "id": "80800547",
   "metadata": {},
   "source": [
    "- inputInt() - Accepts an integer number. Also has min/max/greaterThan/lessThan parameters. Returns an int, not a str.\n",
    "\n",
    "\n",
    "- inputFloat() - Accepts a floating-point number. Also has min/max/greaterThan/lessThan parameters. Returns a float, not a str."
   ]
  },
  {
   "cell_type": "markdown",
   "id": "6c71f635",
   "metadata": {},
   "source": [
    "### 4. Using PyInputPlus, how do you ensure that the user enters a whole number between 0 and 99?"
   ]
  },
  {
   "cell_type": "markdown",
   "id": "aadd64c7",
   "metadata": {},
   "source": [
    "##### ANSWER:"
   ]
  },
  {
   "cell_type": "markdown",
   "id": "4477a805",
   "metadata": {},
   "source": [
    "import pyinputplus as pyip\n",
    "\n",
    "response = pyip.inputInt(prompt='Enter a number: ', greaterThan=0, lessThan=99)\n",
    "\n",
    "Enter a number: cat\n",
    "\n",
    "'cat' is not an integer.\n",
    "\n",
    "Enter a number: 42\n",
    "\n",
    "response\n",
    "\n",
    "42"
   ]
  },
  {
   "cell_type": "markdown",
   "id": "c23f893c",
   "metadata": {},
   "source": [
    "### 5. What is transferred to the keyword arguments allowRegexes and blockRegexes?"
   ]
  },
  {
   "cell_type": "markdown",
   "id": "ef2254ad",
   "metadata": {},
   "source": [
    "##### ANSWER: "
   ]
  },
  {
   "cell_type": "markdown",
   "id": "badbc158",
   "metadata": {},
   "source": [
    "You can also use regular expressions to specify whether an input is allowed or not. The allowRegexes and blockRegexes keyword arguments take a list of regular expression strings to determine what the PyInputPlus function will accept or reject as valid input."
   ]
  },
  {
   "cell_type": "markdown",
   "id": "a54523d0",
   "metadata": {},
   "source": [
    "### 6. If a blank input is entered three times, what does inputStr(limit=3) do?"
   ]
  },
  {
   "cell_type": "markdown",
   "id": "007e4ff8",
   "metadata": {},
   "source": [
    "##### ANSWER: "
   ]
  },
  {
   "cell_type": "markdown",
   "id": "cabab803",
   "metadata": {},
   "source": [
    "If a blank input is entered three times, inputStr(limit=3) raises a RetryLimitException exception."
   ]
  },
  {
   "cell_type": "markdown",
   "id": "0858cc2b",
   "metadata": {},
   "source": [
    "### 7. If blank input is entered three times, what does inputStr(limit=3, default='hello') do?"
   ]
  },
  {
   "cell_type": "markdown",
   "id": "f9946232",
   "metadata": {},
   "source": [
    "##### ANSWER: "
   ]
  },
  {
   "cell_type": "markdown",
   "id": "e9b8fa70",
   "metadata": {},
   "source": [
    "If blank input is entered three times, inputStr(limit=3, default='hello') instead of raising RetryLimitException, the inputStr() function simply returns the string 'hello'."
   ]
  }
 ],
 "metadata": {
  "kernelspec": {
   "display_name": "Python 3 (ipykernel)",
   "language": "python",
   "name": "python3"
  },
  "language_info": {
   "codemirror_mode": {
    "name": "ipython",
    "version": 3
   },
   "file_extension": ".py",
   "mimetype": "text/x-python",
   "name": "python",
   "nbconvert_exporter": "python",
   "pygments_lexer": "ipython3",
   "version": "3.9.7"
  }
 },
 "nbformat": 4,
 "nbformat_minor": 5
}
