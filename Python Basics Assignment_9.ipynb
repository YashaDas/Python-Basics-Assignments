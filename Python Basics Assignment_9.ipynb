{
 "cells": [
  {
   "cell_type": "markdown",
   "id": "2c4c05ae",
   "metadata": {},
   "source": [
    "# Python Basics Assignment_9"
   ]
  },
  {
   "cell_type": "markdown",
   "id": "985a5f6f",
   "metadata": {},
   "source": [
    "### 1. To what does a relative path refer?"
   ]
  },
  {
   "cell_type": "markdown",
   "id": "e63d273f",
   "metadata": {},
   "source": [
    "##### ANSWER: "
   ]
  },
  {
   "cell_type": "markdown",
   "id": "5cba3586",
   "metadata": {},
   "source": [
    "Relative paths are relative to the current working directory."
   ]
  },
  {
   "cell_type": "markdown",
   "id": "29645bd0",
   "metadata": {},
   "source": [
    "### 2. What does an absolute path start with your operating system?"
   ]
  },
  {
   "cell_type": "markdown",
   "id": "9abae1f3",
   "metadata": {},
   "source": [
    "##### ANSWER:  "
   ]
  },
  {
   "cell_type": "markdown",
   "id": "3223d122",
   "metadata": {},
   "source": [
    "Absolute paths start with the root folder, such as / or C:\\ ."
   ]
  },
  {
   "cell_type": "markdown",
   "id": "124e0936",
   "metadata": {},
   "source": [
    "### 3. What do the functions os.getcwd() and os.chdir() do?"
   ]
  },
  {
   "cell_type": "markdown",
   "id": "b4cef4f0",
   "metadata": {},
   "source": [
    "##### ANSWER:  "
   ]
  },
  {
   "cell_type": "markdown",
   "id": "8b7ceff3",
   "metadata": {},
   "source": [
    "- The os.getcwd() function returns the current working directory.\n",
    "\n",
    "\n",
    "- The os.chdir() function changes the current working directory."
   ]
  },
  {
   "cell_type": "markdown",
   "id": "a6b7c52b",
   "metadata": {},
   "source": [
    "### 4. What are the . and .. folders?"
   ]
  },
  {
   "cell_type": "markdown",
   "id": "289f1fd3",
   "metadata": {},
   "source": [
    "##### ANSWER:  "
   ]
  },
  {
   "cell_type": "markdown",
   "id": "d96d7977",
   "metadata": {},
   "source": [
    "- The . folder is the current folder.\n",
    "\n",
    "\n",
    "- The .. is the parent folder."
   ]
  },
  {
   "cell_type": "markdown",
   "id": "404cb98e",
   "metadata": {},
   "source": [
    "### 5. In C:\\bacon\\eggs\\spam.txt, which part is the dir name, and which part is the base name?"
   ]
  },
  {
   "cell_type": "markdown",
   "id": "453046fa",
   "metadata": {},
   "source": [
    "##### ANSWER:  "
   ]
  },
  {
   "cell_type": "markdown",
   "id": "4eb1f833",
   "metadata": {},
   "source": [
    "In C:\\bacon\\eggs\\spam.txt, C:\\bacon\\eggs is the dir name, while spam.txt is the base name."
   ]
  },
  {
   "cell_type": "markdown",
   "id": "9ac8d4cd",
   "metadata": {},
   "source": [
    "### 6. What are the three “mode” arguments that can be passed to the open() function?"
   ]
  },
  {
   "cell_type": "markdown",
   "id": "4e37858d",
   "metadata": {},
   "source": [
    "##### ANSWER:  "
   ]
  },
  {
   "cell_type": "markdown",
   "id": "4f5e912c",
   "metadata": {},
   "source": [
    "The three “mode” arguments that can be passed to the open() function are:\n",
    "\n",
    "The strings:\n",
    "\n",
    "- 'r' for read mode\n",
    "\n",
    "- 'w' for write mode\n",
    "\n",
    "- 'a' for append mode"
   ]
  },
  {
   "cell_type": "markdown",
   "id": "86a789a4",
   "metadata": {},
   "source": [
    "### 7. What happens if an existing file is opened in write mode?"
   ]
  },
  {
   "cell_type": "markdown",
   "id": "86c463d7",
   "metadata": {},
   "source": [
    "##### ANSWER:  "
   ]
  },
  {
   "cell_type": "markdown",
   "id": "cf2c217e",
   "metadata": {},
   "source": [
    "If an existing file opened in write mode then the file is erased and completely overwritten."
   ]
  },
  {
   "cell_type": "markdown",
   "id": "4c18b03e",
   "metadata": {},
   "source": [
    "### 8. How do you tell the difference between read() and readlines()?"
   ]
  },
  {
   "cell_type": "markdown",
   "id": "423a4109",
   "metadata": {},
   "source": [
    "##### ANSWER:  "
   ]
  },
  {
   "cell_type": "markdown",
   "id": "a396b802",
   "metadata": {},
   "source": [
    "The difference between read() and readlines() is:\n",
    "\n",
    "\n",
    "- The read() method returns the file’s entire contents as a single string value.\n",
    "\n",
    "\n",
    "- The readlines() method returns a list of strings, where each string is a line from the file’s contents."
   ]
  },
  {
   "cell_type": "markdown",
   "id": "88c93cc0",
   "metadata": {},
   "source": [
    "### 9. What data structure does a shelf value resemble?"
   ]
  },
  {
   "cell_type": "markdown",
   "id": "a47fd047",
   "metadata": {},
   "source": [
    "##### ANSWER: "
   ]
  },
  {
   "cell_type": "markdown",
   "id": "0cfd5abb",
   "metadata": {},
   "source": [
    "A shelf value resembles a dictionary value; it has keys and values, along with keys() and values() methods that work similarly to the dictionary methods of the same names."
   ]
  }
 ],
 "metadata": {
  "kernelspec": {
   "display_name": "Python 3 (ipykernel)",
   "language": "python",
   "name": "python3"
  },
  "language_info": {
   "codemirror_mode": {
    "name": "ipython",
    "version": 3
   },
   "file_extension": ".py",
   "mimetype": "text/x-python",
   "name": "python",
   "nbconvert_exporter": "python",
   "pygments_lexer": "ipython3",
   "version": "3.9.7"
  }
 },
 "nbformat": 4,
 "nbformat_minor": 5
}
